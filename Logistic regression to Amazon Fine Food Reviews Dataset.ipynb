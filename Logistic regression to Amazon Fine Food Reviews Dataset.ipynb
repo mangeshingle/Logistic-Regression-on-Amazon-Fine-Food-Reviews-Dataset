{
 "cells": [
  {
   "cell_type": "markdown",
   "metadata": {},
   "source": [
    "# <center> Logistic Regression to Amazon Fine Food Reviews Dataset</center>\n",
    "___"
   ]
  },
  {
   "cell_type": "markdown",
   "metadata": {},
   "source": [
    "###  <b>Exercise</b> :\n",
    "\n",
    "1.\tDownload Amazon Fine Food Reviews dataset from Kaggle. You may have to create a Kaggle account to download data. (https://www.kaggle.com/snap/amazon-fine-food-reviews)\n",
    "2.\tSplit data into train and test using time based slicing as 70%  train & 30% test.\n",
    "3.\tPerform featurization, BoW, tf-idf,Avg Word2Vec, tf-idf-Word2Vec.\n",
    "4.\tApply GridsearchCV and RandomsearchCV on train data to find optimal lambda.\n",
    "5.\tImplement L1 and L2 regularizer to avoid overfitting or underfitting.\n",
    "6.\tTry L1 regularization, and keep increasing lambda, to calculate error and sparsity.\n",
    "7.\tPerform Multicollinearity-(Pertubation test) on features and show feature importance.(Add small epsilon to perform perturbation test)\n",
    "8.\tTo test the performance of the model, calculate test error, train error, accuracy,precision,recall,F1-score,confusion matrix(TPR,TNR,FPR,FNR)\n",
    "9.\tWrite your observations in English as crisply and unambiguously as possible. Always quantify your results.\n",
    "\n"
   ]
  },
  {
   "cell_type": "markdown",
   "metadata": {},
   "source": [
    "### Information regarding data set :\n",
    "\n",
    "1. <b>Title</b>: Amazon Fine Food Reviews Data\n",
    "\n",
    "2. <b>Sources</b>: Stanford Network Analysis Project(SNAP)\n",
    "\n",
    "3. <b>Relevant Information</b>: This dataset consists of reviews of fine foods from amazon. The data span a period of more than 10 years, including all ~568,454 reviews up to October 2012(Oct 1999 - Oct 2012). Reviews include product and user information, ratings, and a plain text review.\n",
    "4.  <b>Attribute Information</b>:   \n",
    "    <b>ProductId </b>- unique identifier for the product <br/>\n",
    "    <b>UserId </b>- unqiue identifier for the user <br/>\n",
    "    <b>ProfileName </b>- name of the user <br/>\n",
    "    <b>HelpfulnessNumerator </b>- number of users who found the review helpful <br/>\n",
    "    <b>HelpfulnessDenominator </b>- number of users who indicated whether they found the review helpful or not <br/>\n",
    "    <b>Score </b>- rating between 1 and 5.( rating of 4 or 5 could be cosnidered a positive review. A review of 1 or 2 could be considered negative. A review of 3 is nuetral and ignored) <br/>\n",
    "    <b>Time </b>- timestamp for the review <br/> \n",
    "    <b>Summary </b>- brief summary of the review <br/>\n",
    "    <b>Text </b>- text of the review <br/>"
   ]
  },
  {
   "cell_type": "markdown",
   "metadata": {},
   "source": [
    "---\n",
    "\n",
    "### <b>Objective :</b> \n",
    "> <span style=\"color:blue\">It is a 2-class classification task, where we have to analyze, transform(BoW,TF-IDF) and calculate probabilistic class label values using logistic regression, which evaluates whether a review is positive or negative.<span>\n",
    "\n",
    "---\n"
   ]
  },
  {
   "cell_type": "code",
   "execution_count": 2,
   "metadata": {
    "scrolled": false
   },
   "outputs": [],
   "source": [
    "import warnings\n",
    "from sklearn.exceptions import DataConversionWarning\n",
    "warnings.filterwarnings(action='ignore', category=DataConversionWarning)\n",
    "warnings.filterwarnings(action='ignore', category=UserWarning)\n",
    "warnings.filterwarnings(action='ignore', category=FutureWarning)\n",
    "\n",
    "import math\n",
    "import random\n",
    "import traceback\n",
    "import sqlite3\n",
    "import itertools\n",
    "import datetime as dt\n",
    "import pandas as pd\n",
    "import numpy as np\n",
    "import matplotlib.pyplot as plt\n",
    "import seaborn as sn\n",
    "from tqdm import tqdm\n",
    "from sklearn import preprocessing\n",
    "from sklearn.feature_extraction.text import CountVectorizer\n",
    "from sklearn.feature_extraction.text import TfidfVectorizer\n",
    "from sklearn.model_selection import train_test_split\n",
    "from prettytable import PrettyTable\n",
    "from sklearn.metrics import accuracy_score,precision_score,recall_score,confusion_matrix,classification_report\n",
    "from sklearn.metrics import make_scorer\n",
    "from scipy.stats import uniform\n",
    "from scipy.sparse import find\n",
    "from sklearn.externals import joblib\n",
    "from sklearn.linear_model import LogisticRegression\n",
    "from sklearn.model_selection import GridSearchCV\n",
    "from sklearn.model_selection import RandomizedSearchCV\n",
    "from sklearn.model_selection import TimeSeriesSplit\n",
    "from gensim.models import Word2Vec\n",
    "from gensim.models import KeyedVectors\n",
    "from gensim.models import word2vec"
   ]
  },
  {
   "cell_type": "markdown",
   "metadata": {},
   "source": [
    "### (1) Load dataset :"
   ]
  },
  {
   "cell_type": "code",
   "execution_count": 4,
   "metadata": {
    "scrolled": false
   },
   "outputs": [
    {
     "name": "stdout",
     "output_type": "stream",
     "text": [
      "Dataset Shape : \n",
      " (351237, 11)\n",
      "\n",
      "Column Names: \n",
      " Index(['Id', 'ProductId', 'UserId', 'ProfileName', 'HelpfulnessNumerator',\n",
      "       'HelpfulnessDenominator', 'Score', 'Time', 'Summary', 'Text',\n",
      "       'CleanedText'],\n",
      "      dtype='object')\n",
      "\n",
      "Target Class label : \n",
      "positive    297807\n",
      "negative     53430\n",
      "Name: Score, dtype: int64\n",
      "\n"
     ]
    },
    {
     "data": {
      "image/png": "[encoded data removed]",
      "text/plain": [
       "<Figure size 360x360 with 1 Axes>"
      ]
     },
     "metadata": {
      "needs_background": "light"
     },
     "output_type": "display_data"
    }
   ],
   "source": [
    "# This dataset is already gone through data deduplication and text preprocessing, so it is approx ~364K\n",
    "\n",
    "# For Data Cleaning Steps follow this link -\n",
    "# ipython notebook - https://drive.google.com/open?id=1JXCva5vXdIPgHbfNdD9sgnySqELoVtpy\n",
    "# dataset - https://drive.google.com/open?id=1IoDoTT8TfDu53N6cyKg6xVCU-FDPHyIF\n",
    "\n",
    "# For Text Preporcessing Steps follow this link -\n",
    "# ipython notebook - https://drive.google.com/open?id=18-AkTzzEhCwM_hflIbDNBMAP-imX4k4i\n",
    "# dataset - https://drive.google.com/open?id=1SfDwwXFhDpjgtfIE5O_E80SO89xRc8Sa\n",
    "\n",
    "# Load 'finalDataSet.sqlite' in panda's daraframe.\n",
    "reviews_df = load_review_dataset()\n",
    "\n",
    "# Split data into train and test\n",
    "x_train, x_test, y_train, y_test = perform_splitting(reviews_df['CleanedText'].values,reviews_df['Score'].values,0.3)\n",
    "\n",
    "# Save data to disk for future reference\n",
    "# joblib.dump(x_train, './raw_data/x_train_351237_X_1_by_7.joblib')\n",
    "# joblib.dump(x_test, './raw_data/x_test_351237_X_1_by_3.joblib')\n",
    "# joblib.dump(y_train, './raw_data/y_train_351237_X_1_by_7.joblib')\n",
    "# joblib.dump(y_test, './raw_data/y_test_351237_X_1_by_3.joblib')"
   ]
  },
  {
   "cell_type": "code",
   "execution_count": 9,
   "metadata": {},
   "outputs": [],
   "source": [
    "###--- All utility variables and functions(After importing all the necessary packages, always run this cell first.) ---###\n",
    "\n",
    "# Regularization term : L1 and L2 Norm \n",
    "norms = [\"L1\",\"L2\"]\n",
    "\n",
    "# Values for hyperparameter lambda : C = 1 / lambda        \n",
    "tuned_parameters = {'C': [0.0001,0.0005,0.001,0.005,0.01,0.05,0.1,0.5,1,5,10,50,100,500,1000]}\n",
    "\n",
    "# Training Error\n",
    "train_error = []\n",
    "\n",
    "# Test Error\n",
    "test_error = []\n",
    "\n",
    "# Test Error\n",
    "list_lambda = []\n",
    "\n",
    "# Target Classes\n",
    "target_classes = [\"negative\", \"positive\"]\n",
    "\n",
    "def perform_splitting(train,test,test_size):\n",
    "    '''\n",
    "    This function splits data into given test_size\n",
    "    '''\n",
    "    # Split data into training and testing.\n",
    "    return train_test_split(train,test,test_size=test_size,shuffle=False,random_state=0)     \n",
    "    \n",
    "def load_review_dataset():\n",
    "    # Create connection object to load sqlite dataset\n",
    "    connection = sqlite3.connect('finalDataSet.sqlite')\n",
    "\n",
    "    # Load data into pandas dataframe.\n",
    "    reviews_df = pd.read_sql_query(\"\"\" SELECT * FROM Reviews \"\"\",connection)\n",
    "\n",
    "    # Drop index column \n",
    "    reviews_df = reviews_df.drop(columns=['index'])\n",
    "    \n",
    "    # Take sample of reviews\n",
    "    # reviews_df = reviews_df.sample(3000)\n",
    "        \n",
    "    # Convert timestamp to datetime.\n",
    "    reviews_df['Time'] = reviews_df[['Time']].applymap(lambda x: dt.datetime.fromtimestamp(x))\n",
    "\n",
    "    # Sort the data on the basis of time.\n",
    "    reviews_df = reviews_df.sort_values(by=['Time'])\n",
    "\n",
    "    print(\"Dataset Shape : \\n\",reviews_df.shape)\n",
    "    print(\"\\nColumn Names: \\n\",reviews_df.columns)\n",
    "    print(\"\\nTarget Class label : \")\n",
    "    print(reviews_df['Score'].value_counts())\n",
    "    print()\n",
    "\n",
    "    # Plot review counts\n",
    "    plot_count_values(reviews_df)\n",
    "    \n",
    "    return reviews_df\n",
    "\n",
    "def get_most_common_words(classifier,vectorizer,top_n=None):\n",
    "    ''' Get top n values in row and return them with their corresponding feature names.'''\n",
    "    print()\n",
    "    class_labels = classifier.classes_\n",
    "    feature_names =vectorizer.get_feature_names()\n",
    "    top_positive_negative = sorted(zip(classifier.coef_[0], feature_names))\n",
    "    top_values = zip(top_positive_negative[:top_n], top_positive_negative[:-(top_n+1):-1])\n",
    "    \n",
    "    complete_list = list()\n",
    "    for (p_value,p_word),(n_value,n_word) in top_values:\n",
    "        holder = []\n",
    "        holder.append(n_word) \n",
    "        holder.append(n_value)\n",
    "        holder.append(p_word)\n",
    "        holder.append(p_value)                      \n",
    "        complete_list.append(holder)       \n",
    "    \n",
    "    df = pd.DataFrame(complete_list,columns=['feature_positive', 'value_positive','feature_negative', 'value_negative'])  \n",
    "    \n",
    "    ptable = PrettyTable()\n",
    "    ptable.title = \"Feature Importance - {0} Most Common Features using absolute value of W\".format(top_n)\n",
    "    ptable.field_names = ['Feature (+ve)', '|W| (+ve)','Feature (-ve)', '|W| (-ve)']\n",
    "    \n",
    "    for row in df.itertuples():\n",
    "        ptable.add_row([row.feature_positive,abs(row.value_positive),row.feature_negative,abs(row.value_negative)])\n",
    "    \n",
    "    print(ptable)\n",
    "    print()\n",
    "\n",
    "\n",
    "def perform_featurization(vectorizer_name, train=None, test=None):\n",
    "    if vectorizer_name == \"bow\":        \n",
    "        # Instantiate CountVectorizer\n",
    "        bow_count_vectorizer = CountVectorizer()\n",
    "\n",
    "        # Tokenize and build vocab\n",
    "        bow_count_vectorizer.fit(train)\n",
    "\n",
    "        # Encode document\n",
    "        x_train_matrix = bow_count_vectorizer.transform(train)\n",
    "        x_test_matrix = bow_count_vectorizer.transform(test)\n",
    "        \n",
    "        # Save data and bow vectorizer for later use.\n",
    "        # joblib.dump(x_train_matrix, './matrix_data/bow/x_train_matrix_351237_X_1_by_7.joblib')\n",
    "        # joblib.dump(x_test_matrix, './matrix_data/bow/x_test_matrix_351237_X_1_by_3.joblib')\n",
    "        # joblib.dump(bow_count_vectorizer, './matrix_data/bow/bow_vectorizer_351237.joblib')\n",
    "                \n",
    "        return x_train_matrix,x_test_matrix,bow_count_vectorizer\n",
    "    \n",
    "    if vectorizer_name == \"tf-idf\":\n",
    "        # Instantiate TfidfVectorizer\n",
    "        tfidf_vectorizer = TfidfVectorizer(min_df = 3,ngram_range=(1,2))\n",
    "\n",
    "        # Tokenize and build vocab\n",
    "        tfidf_vectorizer.fit(train)\n",
    "\n",
    "        # Encode document\n",
    "        x_train_matrix = tfidf_vectorizer.transform(train)\n",
    "        x_test_matrix = tfidf_vectorizer.transform(test)\n",
    "        \n",
    "        # Save data and tf-idf vectorizer for later use.\n",
    "        # joblib.dump(x_train_matrix, './matrix_data/tfidf/x_train_matrix_351237_X_1_by_7.joblib')\n",
    "        # joblib.dump(x_test_matrix, './matrix_data/tfidf/x_test_matrix_351237_X_1_by_3.joblib')\n",
    "        # joblib.dump(tfidf_vectorizer, './matrix_data/tfidf/tf_idf_vectorizer_351237.joblib')\n",
    "        \n",
    "        return x_train_matrix,x_test_matrix,tfidf_vectorizer\n",
    "    \n",
    "    if vectorizer_name == \"avg-w2v\":\n",
    "        # Create our own Word2Vec model from training data.\n",
    "        \n",
    "        # Make list of list from training data\n",
    "        list_of_sentences_in_train=[]\n",
    "        for sentence in train:\n",
    "            list_of_sentences_in_train.append(sentence.split())\n",
    "            \n",
    "        # Make list of list from testing data - this will be useful when vectorizing testing data.\n",
    "        list_of_sentences_in_test=[]\n",
    "        for sentence in test:\n",
    "            list_of_sentences_in_test.append(sentence.split())\n",
    "            \n",
    "        print(\"Shape of training data : \",train.shape)\n",
    "        print(\"Shape of testing data : \",test.shape)\n",
    "        print(\"Number of sentences present in training data : \",len(list_of_sentences_in_train))\n",
    "        print(\"Number of sentences present in testing data : \",len(list_of_sentences_in_test))\n",
    "        \n",
    "        # Generate model\n",
    "        w2v_model = Word2Vec(list_of_sentences_in_train,min_count=3,size=50, workers=6)\n",
    "        \n",
    "        # Train model on training dataset\n",
    "        # w2v_model_train.train(list_of_sentences_in_train,total_examples=len(list_of_sentences_in_train), epochs=10)\n",
    "        \n",
    "        # List of word in vocabulary \n",
    "        w2v_words = list(w2v_model.wv.vocab)\n",
    "        print(\"Length of vocabulary : \",len(w2v_words))\n",
    "\n",
    "        # Save  Word2vec model to disk\n",
    "        # w2v_model_train.wv.save_word2vec_format('./matrix_data/avgw2v/word2vec_vectorizer_351237_X_1_by_7.bin', binary=True)\n",
    "\n",
    "        # Load Word2vec from disk\n",
    "        # w2v_model = KeyedVectors.load_word2vec_format('./matrix_data/avgw2v/word2vec_vectorizer_351237_X_1_by_7.bin', binary=True)       \n",
    "         \n",
    "        # Prepare train vectorizer using trained word2vec model\n",
    "        train_list = []\n",
    "        for sentence in tqdm(list_of_sentences_in_train,unit=\" sentence\",desc='Average Word2Vec - Train data'):\n",
    "            word_2_vec = np.zeros(50)\n",
    "            cnt_words = 0\n",
    "            for word in sentence:\n",
    "                if word in w2v_words:\n",
    "                    vec = w2v_model.wv[word]\n",
    "                    word_2_vec += vec\n",
    "                    cnt_words += 1\n",
    "            if cnt_words != 0 :\n",
    "                word_2_vec /= cnt_words\n",
    "            train_list.append(word_2_vec)\n",
    "        \n",
    "        # Prepare test vectorizer using trained word2vec model\n",
    "        test_list = []\n",
    "        for sentence in tqdm(list_of_sentences_in_test,unit=\" sentence\",desc='Average Word2Vec - Test data'):\n",
    "            word_2_vec = np.zeros(50)\n",
    "            cnt_words = 0\n",
    "            for word in sentence:\n",
    "                if word in w2v_words:\n",
    "                    vec = w2v_model.wv[word]\n",
    "                    word_2_vec += vec\n",
    "                    cnt_words += 1\n",
    "            if cnt_words != 0 :\n",
    "                word_2_vec /= cnt_words\n",
    "            test_list.append(word_2_vec)\n",
    "            \n",
    "        avg_w2v_train = np.array(train_list)\n",
    "        avg_w2v_test = np.array(test_list)\n",
    "            \n",
    "        # Save data for later use.\n",
    "        # joblib.dump(avg_w2v_train, './matrix_data/avgw2v/x_train_matrix_351237_X_1_by_7.joblib')\n",
    "        # joblib.dump(avg_w2v_test, './matrix_data/avgw2v/x_test_matrix_351237_X_1_by_3.joblib')\n",
    "        \n",
    "        return avg_w2v_train,avg_w2v_test\n",
    "    \n",
    "    if vectorizer_name == \"tf-idf-w2v\":\n",
    "        # Make list of list from training data.      \n",
    "        sentences_in_train=[]\n",
    "        for sentence in train:\n",
    "            sentences_in_train.append(sentence.split())\n",
    "        \n",
    "        # Make list of list from testing data - this will be useful when vectorizing testing data.\n",
    "        sentences_in_test=[]\n",
    "        for sentence in test:\n",
    "            sentences_in_test.append(sentence.split())\n",
    "            \n",
    "        # Generate model\n",
    "        w2v_model = Word2Vec(sentences_in_train,min_count=3,size=50, workers=6)\n",
    "        \n",
    "        # Instantiate TfidfVectorizer\n",
    "        tfidf_vectorizer = TfidfVectorizer(min_df = 3,ngram_range=(1,2))\n",
    "\n",
    "        # Tokenize and build vocab\n",
    "        tfidf_vectorizer.fit(train)\n",
    "\n",
    "        # Encode document\n",
    "        x_train_matrix = tfidf_vectorizer.transform(train)\n",
    "        \n",
    "        # Get feature names\n",
    "        feature_names = tfidf_vectorizer.get_feature_names()\n",
    "        \n",
    "        # Dictionary with word as a key, and the idf as a value\n",
    "        dict_word_idf = dict(zip(feature_names, list(tfidf_vectorizer.idf_)))\n",
    "        \n",
    "                        \n",
    "        # Load Word2vec from disk that we have already trained(on training data) and stored.\n",
    "        # w2v_model = KeyedVectors.load_word2vec_format('./matrix_data/avgw2v/word2vec_vectorizer_351237_X_1_by_7.bin', binary=True)\n",
    "        \n",
    "        \n",
    "        # Prepare train vectorizer using trained word2vec model        \n",
    "        train_list = []\n",
    "        row = 0\n",
    "        for sentence in tqdm(sentences_in_train,unit=\" sentence\",desc='TF-IDF Weighted Word2Vec - Train data'):\n",
    "            word_2_vec = np.zeros(50)\n",
    "            weight_tfidf_sum = 0\n",
    "            for word in sentence:\n",
    "                try:\n",
    "                    vec = w2v_model.wv[word]\n",
    "                    # dict_word_idf[word] = idf value of word in whole courpus\n",
    "                    # sentence.count(word) = tf valeus of word in this review\n",
    "                    tfidf_value =  dict_word_idf[word]*sentence.count(word)\n",
    "                    word_2_vec += (vec * tfidf_value)\n",
    "                    weight_tfidf_sum += tfidf_value\n",
    "                except:\n",
    "                    pass\n",
    "            if weight_tfidf_sum != 0:\n",
    "                word_2_vec /= weight_tfidf_sum\n",
    "            train_list.append(word_2_vec)\n",
    "            row += 1\n",
    "        \n",
    "        # Prepare test vectorizer using trained word2vec model\n",
    "        test_list = []\n",
    "        row = 0\n",
    "        for sentence in tqdm(sentences_in_test, unit=\" sentence\",desc='TF-IDF Weighted Word2Vec - Test data'):\n",
    "            word_2_vec = np.zeros(50)\n",
    "            weight_tfidf_sum = 0\n",
    "            for word in sentence:\n",
    "                try:\n",
    "                    vec = w2v_model.wv[word]\n",
    "                    # dict_word_idf[word] = idf value of word in whole courpus\n",
    "                    # sentence.count(word) = tf valeus of word in this review\n",
    "                    tfidf_value =  dict_word_idf[word]*sentence.count(word)\n",
    "                    word_2_vec += (vec * tfidf_value)\n",
    "                    weight_tfidf_sum += tfidf_value\n",
    "                except:\n",
    "                    pass\n",
    "            if weight_tfidf_sum != 0:\n",
    "                word_2_vec /= weight_tfidf_sum\n",
    "            test_list.append(word_2_vec)\n",
    "            row += 1\n",
    "        \n",
    "        tfidf_w2v_train = np.array(train_list)\n",
    "        tfidf_w2v_test = np.array(test_list)\n",
    "            \n",
    "        # Save data for later use.\n",
    "        # joblib.dump(tfidf_w2v_train, './matrix_data/tfidf-w2v/x_train_matrix_351237_X_1_by_7.joblib')\n",
    "        # joblib.dump(tfidf_w2v_test, './matrix_data/tfidf-w2v/x_test_matrix_351237_X_1_by_3.joblib')\n",
    "        \n",
    "        return tfidf_w2v_train,tfidf_w2v_test   \n",
    "    \n",
    "def generate_report(optimal_alpha,testing_target,predicted_testing_target):\n",
    "    '''\n",
    "    This funtion generate reports like recall,precision,f1-score,confusion matrix.\n",
    "    '''\n",
    "    print()\n",
    "    # Pretty table instance\n",
    "    ptable = PrettyTable()\n",
    "    ptable.title = \"Classification Report with alpha = {0}\".format(optimal_alpha)\n",
    "    ptable.field_names = [\"Class Lable/Averages\",\"Precision\", \"Recall\",\"F1-Score\",\"Support\"]\n",
    "    report_dict = classification_report(testing_target, predicted_testing_target,output_dict = True)\n",
    "    for key , value in report_dict.items():        \n",
    "        inner_dict = value        \n",
    "        ptable.add_row([key,inner_dict['precision'],inner_dict['recall'],inner_dict['f1-score'],inner_dict['support']])\n",
    "    \n",
    "    # Print pretty table values\n",
    "    print(ptable)\n",
    "        \n",
    "    print()\n",
    "    print(\"\\nAccuracy Score: \",accuracy_score(testing_target, predicted_testing_target))\n",
    "    test_error.append(1-accuracy_score(testing_target, predicted_testing_target))\n",
    "    print()\n",
    "    cnf_mat = confusion_matrix(testing_target, predicted_testing_target)\n",
    "    plt.figure()\n",
    "    plot_confusion_matrix(cnf_mat, classes=target_classes,title='Confusion Matrix')\n",
    "    TN = cnf_mat[0,0]       \n",
    "    FP = cnf_mat[0,1]  \n",
    "    FN = cnf_mat[1,0]\n",
    "    TP = cnf_mat[1,1]\n",
    "    \n",
    "\n",
    "    # Sensitivity, hit rate, recall, or true positive rate\n",
    "    TPR = TP/(TP+FN)\n",
    "    \n",
    "    # Specificity or true negative rate\n",
    "    TNR = TN/(TN+FP)  \n",
    "    \n",
    "    # Fall out or false positive rate\n",
    "    FPR = FP/(FP+TN)\n",
    "    \n",
    "    # False negative rate\n",
    "    FNR = FN/(TP+FN)\n",
    "    \n",
    "    # Overall accuracy\n",
    "    ACC = (TP+TN)/(TP+FP+FN+TN)\n",
    "    \n",
    "    print()\n",
    "    # Pretty table instance\n",
    "    ptable = PrettyTable()\n",
    "    ptable.title = \"Confusion Matrix Report\"\n",
    "    ptable.field_names = ['Term','Value']\n",
    "    ptable.add_row([\"TP (True Positive)\",TP])\n",
    "    ptable.add_row([\"TN (True Negative)\",TN])\n",
    "    ptable.add_row([\"FP (False Positive)\",FP])\n",
    "    ptable.add_row([\"FN (False Negative)\",FN])\n",
    "    ptable.add_row([\"TPR (True Positive Rate)= TP/(TP+FN))\",TPR])\n",
    "    ptable.add_row([\"TNR (True Negative Rate)= TN/(TN+FP))\",TNR])\n",
    "    ptable.add_row([\"FPR (False Positive Rate)= FP/(FP+TN))\",FPR])\n",
    "    ptable.add_row([\"FNR (False Negative Rate)= FN/(TP+FN))\",FNR])\n",
    "    ptable.add_row([\"ACC (Accuracy)= (TP+TN)/(TP+FP+FN+TN))\",ACC])\n",
    "    \n",
    "    # Print pretty table values\n",
    "    print(ptable) \n",
    "    \n",
    "def plot_x_vs_y(x,y,x_label=None,y_label=None,title_name=None):    \n",
    "    plt.plot(x, \n",
    "             y, \n",
    "             color='green', \n",
    "             linestyle='dashed', \n",
    "             linewidth = 3, \n",
    "             marker='o', \n",
    "             markerfacecolor='blue', \n",
    "             markersize=12)\n",
    "   \n",
    "    plt.xlabel(x_label)\n",
    "    plt.ylabel(y_label)\n",
    "    plt.title(title_name)\n",
    "    plt.show()\n",
    "       \n",
    "def plot_count_values(reviews_df):   \n",
    "    sn.catplot(x =\"Score\",kind='count',data=reviews_df,height=5)\n",
    "    plt.title(\"Score Count\", fontsize=18)\n",
    "    plt.show()\n",
    "\n",
    "def plot_scoring_hyperparameter(scores):\n",
    "    # Plot the value of lambda's(x-axis) and crosss validation scoring(accuracy,precision,recall)(y-axis)\n",
    "    plt.plot(scores.keys(),scores.values())\n",
    "    plt.xlabel(\"C\")\n",
    "    plt.ylabel(\"Accuracy\")\n",
    "    plt.show() \n",
    "\n",
    "def plot_report_confusion_matrix(confusion_matrix, classes,\n",
    "                          normalize=False,\n",
    "                          title='Confusion matrix',\n",
    "                          cmap=plt.cm.Blues):    \n",
    "    plt.figure()\n",
    "    plt.imshow(confusion_matrix, interpolation='nearest', cmap=cmap)\n",
    "    plt.title(title)\n",
    "    plt.colorbar()\n",
    "    tick_marks = np.arange(len(classes))\n",
    "    plt.xticks(tick_marks, classes, rotation=45)\n",
    "    plt.yticks(tick_marks, classes)\n",
    "\n",
    "    fmt = '.2f' if normalize else 'd'\n",
    "    thresh = confusion_matrix.max() / 2.\n",
    "    for i, j in itertools.product(range(confusion_matrix.shape[0]), range(confusion_matrix.shape[1])):\n",
    "        plt.text(j, i, format(confusion_matrix[i, j], fmt),\n",
    "                 horizontalalignment=\"center\",\n",
    "                 color=\"white\" if confusion_matrix[i, j] > thresh else \"black\")\n",
    "\n",
    "    plt.ylabel('True label')\n",
    "    plt.xlabel('Predicted label')\n",
    "    plt.tight_layout()\n",
    "    plt.show()\n",
    "    \n",
    "    TN = confusion_matrix[0,0]       \n",
    "    FP = confusion_matrix[0,1]  \n",
    "    FN = confusion_matrix[1,0]\n",
    "    TP = confusion_matrix[1,1]\n",
    "    \n",
    "\n",
    "    # Sensitivity, hit rate, recall, or true positive rate\n",
    "    TPR = TP/(TP+FN)\n",
    "    \n",
    "    # Specificity or true negative rate\n",
    "    TNR = TN/(TN+FP)  \n",
    "    \n",
    "    # Fall out or false positive rate\n",
    "    FPR = FP/(FP+TN)\n",
    "    \n",
    "    # False negative rate\n",
    "    FNR = FN/(TP+FN)\n",
    "    \n",
    "    # Overall accuracy\n",
    "    ACC = (TP+TN)/(TP+FP+FN+TN)\n",
    "    \n",
    "    print()\n",
    "    # Pretty table instance\n",
    "    ptable = PrettyTable()\n",
    "    ptable.title = \"Confusion Matrix Report\"\n",
    "    ptable.field_names = ['Term','Value']\n",
    "    ptable.add_row([\"TP (True Positive)\",TP])\n",
    "    ptable.add_row([\"TN (True Negative)\",TN])\n",
    "    ptable.add_row([\"FP (False Positive)\",FP])\n",
    "    ptable.add_row([\"FN (False Negative)\",FN])\n",
    "    ptable.add_row([\"TPR (True Positive Rate)= TP/(TP+FN))\",\"{0:.2f}\".format(TPR)])\n",
    "    ptable.add_row([\"TNR (True Negative Rate)= TN/(TN+FP))\",\"{0:.2f}\".format(TNR)])\n",
    "    ptable.add_row([\"FPR (False Positive Rate)= FP/(FP+TN))\",\"{0:.2f}\".format(FPR)])\n",
    "    ptable.add_row([\"FNR (False Negative Rate)= FN/(TP+FN))\",\"{0:.2f}\".format(FNR)])\n",
    "    ptable.add_row([\"ACC (Accuracy)= (TP+TN)/(TP+FP+FN+TN))\",\"{0:.2f}%\".format(ACC*100)])\n",
    "    \n",
    "    # Print pretty table values\n",
    "    print(ptable)\n",
    "    \n",
    "def perform_sparsity_testing(classifier, bow_train_features):   \n",
    "\n",
    "  # List of values to test C\n",
    "    new_c_values =  [10**-3,10**-2,10**-1,10**0,10**1,10**2,10**3]   \n",
    "\n",
    "    # Data normalization    \n",
    "    x_train_normalized = preprocessing.normalize(bow_train_features)\n",
    "\n",
    "\n",
    "    # For tabular report\n",
    "    ptable = PrettyTable()\n",
    "    ptable.title = \"Sparsity Testing Report\"\n",
    "    ptable.field_names = [\"Hyperparameter(C)\",\"Sparsity\",\"Training Error\"]\n",
    "\n",
    "    list_w_vactor = []\n",
    "    list_training_error = []\n",
    "    for value in new_c_values:\n",
    "        classifier.C = value    \n",
    "        classifier.fit(x_train_normalized, y_train);\n",
    "        w_nonzero =  np.count_nonzero(classifier.coef_)     \n",
    "        list_w_vactor.append(w_nonzero)\n",
    "        predicted_y_train = classifier.predict(x_train_normalized)\n",
    "        accuracy = accuracy_score(y_train,predicted_y_train)\n",
    "        list_training_error.append(1 - accuracy)\n",
    "        ptable.add_row([value, w_nonzero, \"{0:.02f}\".format(1 - accuracy)])\n",
    "\n",
    "\n",
    "    print()\n",
    "\n",
    "    # Plot Sparsity vs Hyperparameter values\n",
    "    plot_x_vs_y(list_w_vactor,\n",
    "                new_c_values,\n",
    "                x_label=\"Non Zero Values in W\",\n",
    "                y_label=\"C\",\n",
    "                title_name=\"Non Zero Values in W versus 'C'\")\n",
    "    print()\n",
    "    \n",
    "    # Plot Training Error vs Hyperparameter values\n",
    "    plot_x_vs_y(list_training_error,\n",
    "                new_c_values,\n",
    "                x_label=\"Training error\",\n",
    "                y_label=\"C\",\n",
    "                title_name=\"Training error versus 'C'\")\n",
    "\n",
    "\n",
    "    print()    \n",
    "    print()\n",
    "    print(ptable)\n",
    "    print()\n",
    "    \n",
    "def perform_pertubation_test(x_train, x_test, y_train, y_test, c,penalty_value):\n",
    "    # Data normalization    \n",
    "    x_train_normalized = preprocessing.normalize(x_train)\n",
    "    x_test_normalized = preprocessing.normalize(x_test)\n",
    "\n",
    "    # Logistic regression before pertubation\n",
    "    classifier_before_pertubation = LogisticRegression(C= c, penalty= penalty_value,class_weight =\"balanced\")\n",
    "    classifier_before_pertubation.fit(x_train_normalized,y_train)\n",
    "    predicted_y_test = classifier_before_pertubation.predict(x_test_normalized)\n",
    "    weight_before_pertubation = find(classifier_before_pertubation.coef_[0])[2]\n",
    "    print(\"------------------ Before Pertubation Test ------------------\")\n",
    "    print(\"Accuracy on testing data: %0.2f%%\"%(accuracy_score(y_test, predicted_y_test)*100))\n",
    "    print(\"Number of non zero weights in weight vector 'w': \",np.count_nonzero(classifier_before_pertubation.coef_))    \n",
    "    print()\n",
    "    print()\n",
    "\n",
    "    # Contains the row indices, column indices, and values of the nonzero matrix entries\n",
    "    row_index, column_index, values_nnz = find(x_train_normalized)\n",
    "\n",
    "    # Create random noise\n",
    "    epsilon = np.random.uniform(low=-0.0001, high=0.0001, size=(row_index.size,))\n",
    "\n",
    "    # Add noise to non zero elements in sparse matrix\n",
    "    x_train_normalized[row_index,column_index] = epsilon + x_train_normalized[row_index,column_index]\n",
    "    \n",
    "    # Logistic regression after pertubation\n",
    "    classifier_after_pertubation = LogisticRegression(C= c, penalty= penalty_value,class_weight =\"balanced\")\n",
    "    classifier_after_pertubation.fit(x_train_normalized,y_train)\n",
    "    predicted_y_test = classifier_after_pertubation.predict(x_test_normalized)\n",
    "    weight_after_pertubation = find(classifier_after_pertubation.coef_[0])[2]\n",
    "    print(\"------------------ After Pertubation Test ------------------\")\n",
    "    print(\"Accuracy on testing data: %0.2f%%\"%(accuracy_score(y_test, predicted_y_test)*100))    \n",
    "    print(\"Number of non zero weights in weight vector 'w': \",np.count_nonzero(classifier_after_pertubation.coef_))\n",
    "    \n",
    "    return weight_before_pertubation,weight_after_pertubation,classifier_before_pertubation\n",
    "    \n",
    "    \n",
    "    \n",
    "def compare_weight_vectors(weight_before_pertubation, weight_after_pertubation, tolerance):\n",
    "    \n",
    "    # Returns a boolean array where two arrays are element-wise equal within a tolerance.     \n",
    "    difference = np.isclose(weight_before_pertubation, weight_after_pertubation, atol=tolerance)\n",
    "    false_size = difference[np.where(difference == False)].size\n",
    "    percentage = (false_size / difference.size)*100\n",
    "    print()\n",
    "    print()\n",
    "    print(\"{0:.2f}% value changes with tolerence value of {1} between two weight vectors\".format(percentage,tolerance))\n",
    "    print()\n",
    "    \n",
    "    \n",
    "    \n",
    "    \n",
    "def get_cross_validation_models(x_train =None, y_train=None):   \n",
    "    \n",
    "    # Create dictionary to hold GridSearchCV and RandomizedSearchCV objects\n",
    "    model_gs_rs = dict()    \n",
    "    \n",
    "    cv_time_splits = TimeSeriesSplit(n_splits = 5)\n",
    "    \n",
    "    for penalty_name in norms:        \n",
    "        # Instantiate LogisticRegression\n",
    "        lr_classifier_gs = LogisticRegression()   \n",
    "        lr_classifier_gs.penalty = penalty_name.lower()\n",
    "        \n",
    "        # Instantiate GridSearchCV\n",
    "        gs_model = GridSearchCV(lr_classifier_gs,\n",
    "                                tuned_parameters,\n",
    "                                scoring = \"accuracy\",\n",
    "                                cv = cv_time_splits,\n",
    "                                n_jobs = -1)\n",
    "                        \n",
    "        # Fit feature matrix with all sets of parameters\n",
    "        gs_model.fit(x_train, y_train)  \n",
    "        \n",
    "        # Instantiate LogisticRegression\n",
    "        lr_classifier_rs = LogisticRegression()   \n",
    "        lr_classifier_rs.penalty = penalty_name.lower()\n",
    "        \n",
    "        # Instantiate RandomizedSearchCV          \n",
    "        rs_model = RandomizedSearchCV(lr_classifier_rs,\n",
    "                                      tuned_parameters,\n",
    "                                      scoring = \"accuracy\",\n",
    "                                      cv = cv_time_splits,\n",
    "                                      n_jobs = -1)\n",
    "          \n",
    "        # Fit feature matrix with all sets of parameters\n",
    "        rs_model.fit(x_train, y_train)       \n",
    "        \n",
    "        # Add models to model_dict\n",
    "        model_gs_rs[penalty_name] = (gs_model,rs_model)\n",
    "    \n",
    "    return model_gs_rs\n",
    "\n",
    "def performance_measure(gs_rs_model,x_train_normalized, original_y_train, x_test_normalized,original_y_test):\n",
    "    for norm_name, model in gs_rs_model.items():\n",
    "        print()\n",
    "        print(\"\\n*****************************************************************************\")\n",
    "        print(\"----------------------------- {0} Regularizaion -----------------------------\".format(norm_name))\n",
    "        print(\"*******************************************************************************\\n\")\n",
    "        print()\n",
    "        for classifier in list(model):           \n",
    "            print(\"-------------------------- {0} --------------------------\".format(type(classifier).__name__))           \n",
    "            \n",
    "            # Predict target class label\n",
    "            predicted_y_test = classifier.predict(x_test_normalized)\n",
    "            \n",
    "            # Predict train class label\n",
    "            predicted_y_train = classifier.predict(x_train_normalized)\n",
    "            \n",
    "            ptable = PrettyTable()\n",
    "            if type(classifier) is GridSearchCV:\n",
    "                ptable.title = \"{0} Regularization with 'GridSearchCV'\".format(norm_name)\n",
    "            else:\n",
    "                ptable.title = \"{0} Regularization with 'RandomizedSearchCV'\".format(norm_name)\n",
    "                \n",
    "            ptable.field_names = [\"Hyperparameter (C)\",\"Scoring\",\"Mean\",\"Variance\"]\n",
    "\n",
    "            list_means = classifier.cv_results_['mean_test_score']\n",
    "            list_stds = classifier.cv_results_['std_test_score']\n",
    "            list_params = classifier.cv_results_['params']\n",
    "            scores = dict()\n",
    "            for mean, std, params in zip(list_means, list_stds, list_params):\n",
    "                scores[params['C']] = \"{0:.2f}\".format(mean)\n",
    "                ptable.add_row([params['C'], \"Accuracy\", \"{0:.2f}\".format(mean), \"{0:.2f}\".format(std*2)])\n",
    "\n",
    "            print()\n",
    "            plot_scoring_hyperparameter(scores)\n",
    "            print()\n",
    "            \n",
    "            print()\n",
    "            print(ptable)\n",
    "            print()\n",
    "\n",
    "            optimal_lambda = classifier.best_params_['C']\n",
    "            train_accuracy = accuracy_score(original_y_train, predicted_y_train)\n",
    "            test_accuracy = accuracy_score(original_y_test, predicted_y_test)\n",
    "            list_lambda.append(optimal_lambda)\n",
    "            test_error.append(1 - test_accuracy)\n",
    "            train_error.append(1 - train_accuracy)\n",
    "            \n",
    "            # Print Optimal hyperparameter and corresponding accuracy\n",
    "            ptable = PrettyTable()\n",
    "            ptable.title = \"Optimal hyperparameter & Testing accuracy score\"\n",
    "            ptable.field_names=[\"Regularization\",\"Cross Validation\",\"Optimal Hyperparameter (C)\",\"Accuracy(%)\"]\n",
    "            ptable.add_row([norm_name , type(classifier).__name__ ,optimal_lambda,\"{0:.2f}\".format(test_accuracy*100)])\n",
    "            print(ptable)  \n",
    "            \n",
    "            # Print classification report\n",
    "            print()          \n",
    "            ptable = PrettyTable()\n",
    "            ptable.title = \"Classification Report with lambda = {0}\".format(optimal_lambda)\n",
    "            ptable.field_names = [\"Class Lable/Averages\",\"Precision\", \"Recall\",\"F1-Score\",\"Support\"]\n",
    "            report_dict = classification_report(original_y_test, predicted_y_test,output_dict = True)\n",
    "            for key , value in report_dict.items():        \n",
    "                inner_dict = value        \n",
    "                ptable.add_row([key,\n",
    "                                \"{0:.2f}\".format(inner_dict['precision']),\n",
    "                                \"{0:.2f}\".format(inner_dict['recall']),\n",
    "                                \"{0:.2f}\".format(inner_dict['f1-score']),\n",
    "                                \"{0:.2f}\".format(inner_dict['support'])])\n",
    "            \n",
    "            print(ptable)\n",
    "           \n",
    "            # Calculate and plot confusion matrix\n",
    "            cnf_mat = confusion_matrix(original_y_test, predicted_y_test)            \n",
    "            plot_report_confusion_matrix(cnf_mat, classes=target_classes,title='Confusion Matrix')\n",
    "            print()        \n",
    "            print()\n",
    "        print()        \n",
    "        print()            \n",
    "   \n",
    "    \n",
    "def run_logistic_regression(vectorizer_name, x_train=None, x_test=None,y_train=None,y_test=None):  \n",
    "               \n",
    "        # Data Normalization        \n",
    "        x_train = preprocessing.normalize(x_train)\n",
    "        x_test = preprocessing.normalize(x_test)\n",
    "        \n",
    "        # Get GridSearchCV and RandomizedSearchCV models     \n",
    "        gs_rs_model = get_cross_validation_models(x_train = x_train,y_train = y_train)        \n",
    "        \n",
    "        # Generate Reports and plot scoring values\n",
    "        performance_measure(gs_rs_model,x_train,y_train,x_test,y_test)    \n",
    "        \n",
    "\n",
    "def conclude():\n",
    "    ptable=PrettyTable()\n",
    "    ptable.title = \"***Conclusion***\"\n",
    "    ptable.field_names=[\"Penalty-CV\",\"Model\",\"Hyperparameter\",\"Train Error\",\"Test Error\"]\n",
    "    ptable.add_row([\"L1\\nGridSearchCV\",\"BOW\\nLogistic Regression\",list_lambda[0],str(round(train_error[0], 2)*100)+\"%\",str(round(test_error[0], 2)*100)+\"%\"])\n",
    "    ptable.add_row([\"L1\\nRandomizedSearchCV\",\"BOW\\nLogistic Regression\",list_lambda[1],str(round(train_error[1], 2)*100)+\"%\",str(round(test_error[1], 2)*100)+\"%\"])\n",
    "    ptable.add_row([\"L2\\nGridSearchCV\",\"BOW\\nLogistic Regression\",list_lambda[2],str(round(train_error[2], 2)*100)+\"%\",str(round(test_error[2], 2)*100)+\"%\"])\n",
    "    ptable.add_row([\"L2\\nRandomizedSearchCV\",\"BOW\\nLogistic Regression\",list_lambda[3],str(round(train_error[3], 2)*100)+\"%\",str(round(test_error[3], 2)*100)+\"%\"])\n",
    "    \n",
    "    ptable.add_row([\"L1\\nGridSearchCV\",\"TFIDF\\nLogistic Regression\",list_lambda[4],str(round(train_error[4], 2)*100)+\"%\",str(round(test_error[4], 2)*100)+\"%\"])\n",
    "    ptable.add_row([\"L1\\nRandomizedSearchCV\",\"TFIDF\\nLogistic Regression\",list_lambda[5],str(round(train_error[5], 2)*100)+\"%\",str(round(test_error[5], 2)*100)+\"%\"])\n",
    "    ptable.add_row([\"L2\\nGridSearchCV\",\"TFIDF\\nLogistic Regression\",list_lambda[6],str(round(train_error[6], 2)*100)+\"%\",str(round(test_error[6], 2)*100)+\"%\"])\n",
    "    ptable.add_row([\"L2\\nRandomizedSearchCV\",\"TFIDF\\nLogistic Regression\",list_lambda[7],str(round(train_error[7], 2)*100)+\"%\",str(round(test_error[7], 2)*100)+\"%\"])\n",
    "    \n",
    "    ptable.add_row([\"L1\\nGridSearchCV\",\"AVG-W2V\\nLogistic Regression\",list_lambda[8],str(round(train_error[8], 2)*100)+\"%\",str(round(test_error[8], 2)*100)+\"%\"])\n",
    "    ptable.add_row([\"L1\\nRandomizedSearchCV\",\"AVG-W2V\\nLogistic Regression\",list_lambda[9],str(round(train_error[9], 2)*100)+\"%\",str(round(test_error[9], 2)*100)+\"%\"])\n",
    "    ptable.add_row([\"L2\\nGridSearchCV\",\"AVG-W2V\\nLogistic Regression\",list_lambda[10],str(round(train_error[10], 2)*100)+\"%\",str(round(test_error[10], 2)*100)+\"%\"])\n",
    "    ptable.add_row([\"L2\\nRandomizedSearchCV\",\"AVG-W2V\\nLogistic Regression\",list_lambda[11],str(round(train_error[11], 2)*100)+\"%\",str(round(test_error[11], 2)*100)+\"%\"])\n",
    "    \n",
    "    ptable.add_row([\"L1\\nGridSearchCV\",\"TFIDF-W2V\\nLogistic Regression\",list_lambda[12],str(round(train_error[12], 2)*100)+\"%\",str(round(test_error[12], 2)*100)+\"%\"])\n",
    "    ptable.add_row([\"L1\\nRandomizedSearchCV\",\"TFIDF-W2V\\nLogistic Regression\",list_lambda[13],str(round(train_error[13], 2)*100)+\"%\",str(round(test_error[13], 2)*100)+\"%\"])\n",
    "    ptable.add_row([\"L2\\nGridSearchCV\",\"TFIDF-W2V\\nLogistic Regression\",list_lambda[14],str(round(train_error[14], 2)*100)+\"%\",str(round(test_error[14], 2)*100)+\"%\"])\n",
    "    ptable.add_row([\"L2\\nRandomizedSearchCV\",\"TFIDF-W2V\\nLogistic Regression\",list_lambda[15],str(round(train_error[15], 2)*100)+\"%\",str(round(test_error[15], 2)*100)+\"%\"])\n",
    "    print(ptable)"
   ]
  },
  {
   "cell_type": "markdown",
   "metadata": {},
   "source": [
    "<br/><br/>"
   ]
  },
  {
   "cell_type": "markdown",
   "metadata": {},
   "source": [
    "### (2) Convert review text to vector representation :\n",
    "#### (2.1) Bag of Words (BoW) :"
   ]
  },
  {
   "cell_type": "code",
   "execution_count": 5,
   "metadata": {
    "scrolled": false
   },
   "outputs": [
    {
     "name": "stdout",
     "output_type": "stream",
     "text": [
      "\n",
      "The type of count vectorizer  <class 'scipy.sparse.csr.csr_matrix'>\n",
      "The shape of BOW vectorizer  (245865, 74398)\n",
      "The number of unique words  74398\n",
      "Wall time: 15.5 s\n"
     ]
    }
   ],
   "source": [
    "%%time\n",
    "\n",
    "# Perofrm Bag of Words\n",
    "bow_train_features, bow_test_features, bow_vectorizer = perform_featurization(vectorizer_name=\"bow\",\n",
    "                                                                              train = x_train,\n",
    "                                                                              test = x_test)\n",
    "\n",
    "print(\"\\nThe type of count vectorizer \",type(bow_train_features))\n",
    "print(\"The shape of BOW vectorizer \",bow_train_features.get_shape())\n",
    "print(\"The number of unique words \", bow_train_features.get_shape()[1])"
   ]
  },
  {
   "cell_type": "markdown",
   "metadata": {},
   "source": [
    "#### (2.2) Term Frequency - Inverse Document Frequency (TF-IDF) :"
   ]
  },
  {
   "cell_type": "code",
   "execution_count": 6,
   "metadata": {},
   "outputs": [
    {
     "name": "stdout",
     "output_type": "stream",
     "text": [
      "\n",
      "The type of count vectorizer  <class 'scipy.sparse.csr.csr_matrix'>\n",
      "The shape of TF-IDF vectorizer  (245865, 487621)\n",
      "The number of unique words  487621\n",
      "Wall time: 47.4 s\n"
     ]
    }
   ],
   "source": [
    "%%time\n",
    "\n",
    "# Perofrm TF-IDF\n",
    "tf_idf_train_features, tf_idf_test_features, tfidf_vectorizer = perform_featurization(vectorizer_name=\"tf-idf\",\n",
    "                                                                                      train = x_train,\n",
    "                                                                                      test = x_test)\n",
    "\n",
    "print(\"\\nThe type of count vectorizer \",type(tf_idf_train_features))\n",
    "print(\"The shape of TF-IDF vectorizer \",tf_idf_train_features.get_shape())\n",
    "print(\"The number of unique words \", tf_idf_train_features.get_shape()[1])"
   ]
  },
  {
   "cell_type": "markdown",
   "metadata": {},
   "source": [
    "#### (2.3) Average Word2Vec :"
   ]
  },
  {
   "cell_type": "code",
   "execution_count": 7,
   "metadata": {},
   "outputs": [
    {
     "name": "stdout",
     "output_type": "stream",
     "text": [
      "Shape of training data :  (245865,)\n",
      "Shape of testing data :  (105372,)\n",
      "Number of sentences present in training data :  245865\n",
      "Number of sentences present in testing data :  105372\n",
      "Length of vocabulary :  24460\n"
     ]
    },
    {
     "name": "stderr",
     "output_type": "stream",
     "text": [
      "Average Word2Vec - Train data: 100%|███████████████████████████████████| 245865/245865 [04:28<00:00, 914.93 sentence/s]\n",
      "Average Word2Vec - Test data: 100%|████████████████████████████████████| 105372/105372 [02:03<00:00, 855.08 sentence/s]\n"
     ]
    },
    {
     "name": "stdout",
     "output_type": "stream",
     "text": [
      "\n",
      "Shape of training vectorizer :  (245865, 50)\n",
      "Shape of testing vectorizer :  (105372, 50)\n",
      "Wall time: 6min 46s\n"
     ]
    }
   ],
   "source": [
    "%%time\n",
    "\n",
    "# Perofrm Average Word2Vec\n",
    "avg_w2v_train,avg_w2v_test = perform_featurization(vectorizer_name=\"avg-w2v\",\n",
    "                                                             train = x_train,\n",
    "                                                             test= x_test)\n",
    "print(\"\\nShape of training vectorizer : \",avg_w2v_train.shape)\n",
    "print(\"Shape of testing vectorizer : \",avg_w2v_test.shape)"
   ]
  },
  {
   "cell_type": "markdown",
   "metadata": {},
   "source": [
    "#### (2.4) Term Frequency - Inverse Document Frequency Weighted Word2Vec(TF-IDF Word2Vec) :"
   ]
  },
  {
   "cell_type": "code",
   "execution_count": 11,
   "metadata": {
    "scrolled": false
   },
   "outputs": [
    {
     "name": "stderr",
     "output_type": "stream",
     "text": [
      "TF-IDF Weighted Word2Vec - Train data: 100%|██████████████████████████| 245865/245865 [01:05<00:00, 3732.49 sentence/s]\n",
      "TF-IDF Weighted Word2Vec - Test data: 100%|███████████████████████████| 105372/105372 [00:27<00:00, 3776.57 sentebce/s]\n"
     ]
    },
    {
     "name": "stdout",
     "output_type": "stream",
     "text": [
      "\n",
      "Shape of training vectorizer :  (245865, 50)\n",
      "Shape of testing vectorizer :  (105372, 50)\n",
      "Wall time: 2min 30s\n"
     ]
    }
   ],
   "source": [
    "%%time\n",
    "\n",
    "# Perofrm TF-IDF Weighted Word2Vec\n",
    "tfidf_w2v_train,tfidf_w2v_test = perform_featurization(vectorizer_name=\"tf-idf-w2v\",\n",
    "                                                                 train = x_train,\n",
    "                                                                 test= x_test)\n",
    "print(\"\\nShape of training vectorizer : \",tfidf_w2v_train.shape)\n",
    "print(\"Shape of testing vectorizer : \",tfidf_w2v_test.shape)"
   ]
  },
  {
   "cell_type": "markdown",
   "metadata": {},
   "source": [
    "<br/><br/>"
   ]
  },
  {
   "cell_type": "markdown",
   "metadata": {},
   "source": [
    "### (3) Apply logistic regression :\n",
    "#### (3.1) Logistic regression on BoW :"
   ]
  },
  {
   "cell_type": "code",
   "execution_count": 12,
   "metadata": {
    "scrolled": false
   },
   "outputs": [
    {
     "name": "stdout",
     "output_type": "stream",
     "text": [
      "\n",
      "\n",
      "*****************************************************************************\n",
      "----------------------------- L1 Regularizaion -----------------------------\n",
      "*******************************************************************************\n",
      "\n",
      "\n",
      "-------------------------- GridSearchCV --------------------------\n",
      "\n"
     ]
    },
    {
     "data": {
      "image/png": "[encoded data removed]",
      "text/plain": [
       "<Figure size 432x288 with 1 Axes>"
      ]
     },
     "metadata": {
      "needs_background": "light"
     },
     "output_type": "display_data"
    },
    {
     "name": "stdout",
     "output_type": "stream",
     "text": [
      "\n",
      "\n",
      "+-------------------------------------------------+\n",
      "|      L1 Regularization with 'GridSearchCV'      |\n",
      "+--------------------+----------+------+----------+\n",
      "| Hyperparameter (C) | Scoring  | Mean | Variance |\n",
      "+--------------------+----------+------+----------+\n",
      "|       0.0001       | Accuracy | 0.85 |   0.03   |\n",
      "|       0.0005       | Accuracy | 0.85 |   0.03   |\n",
      "|       0.001        | Accuracy | 0.85 |   0.03   |\n",
      "|       0.005        | Accuracy | 0.85 |   0.03   |\n",
      "|        0.01        | Accuracy | 0.85 |   0.02   |\n",
      "|        0.05        | Accuracy | 0.88 |   0.01   |\n",
      "|        0.1         | Accuracy | 0.90 |   0.01   |\n",
      "|        0.5         | Accuracy | 0.92 |   0.00   |\n",
      "|         1          | Accuracy | 0.92 |   0.00   |\n",
      "|         5          | Accuracy | 0.92 |   0.00   |\n",
      "|         10         | Accuracy | 0.92 |   0.00   |\n",
      "|         50         | Accuracy | 0.91 |   0.01   |\n",
      "|        100         | Accuracy | 0.90 |   0.01   |\n",
      "|        500         | Accuracy | 0.89 |   0.02   |\n",
      "|        1000        | Accuracy | 0.89 |   0.02   |\n",
      "+--------------------+----------+------+----------+\n",
      "\n",
      "+------------------------------------------------------------------------------+\n",
      "|               Optimal hyperparameter & Testing accuracy score                |\n",
      "+----------------+------------------+----------------------------+-------------+\n",
      "| Regularization | Cross Validation | Optimal Hyperparameter (C) | Accuracy(%) |\n",
      "+----------------+------------------+----------------------------+-------------+\n",
      "|       L1       |   GridSearchCV   |             5              |    91.98    |\n",
      "+----------------+------------------+----------------------------+-------------+\n",
      "\n",
      "+------------------------------------------------------------------+\n",
      "|              Classification Report with lambda = 5               |\n",
      "+----------------------+-----------+--------+----------+-----------+\n",
      "| Class Lable/Averages | Precision | Recall | F1-Score |  Support  |\n",
      "+----------------------+-----------+--------+----------+-----------+\n",
      "|       negative       |    0.82   |  0.68  |   0.74   |  17838.00 |\n",
      "|       positive       |    0.94   |  0.97  |   0.95   |  87534.00 |\n",
      "|      micro avg       |    0.92   |  0.92  |   0.92   | 105372.00 |\n",
      "|      macro avg       |    0.88   |  0.82  |   0.85   | 105372.00 |\n",
      "|     weighted avg     |    0.92   |  0.92  |   0.92   | 105372.00 |\n",
      "+----------------------+-----------+--------+----------+-----------+\n"
     ]
    },
    {
     "data": {
      "image/png": "[encoded data removed]",
      "text/plain": [
       "<Figure size 432x288 with 2 Axes>"
      ]
     },
     "metadata": {
      "needs_background": "light"
     },
     "output_type": "display_data"
    },
    {
     "name": "stdout",
     "output_type": "stream",
     "text": [
      "\n",
      "+-------------------------------------------------+\n",
      "|             Confusion Matrix Report             |\n",
      "+----------------------------------------+--------+\n",
      "|                  Term                  | Value  |\n",
      "+----------------------------------------+--------+\n",
      "|           TP (True Positive)           | 84800  |\n",
      "|           TN (True Negative)           | 12117  |\n",
      "|          FP (False Positive)           |  5721  |\n",
      "|          FN (False Negative)           |  2734  |\n",
      "| TPR (True Positive Rate)= TP/(TP+FN))  |  0.97  |\n",
      "| TNR (True Negative Rate)= TN/(TN+FP))  |  0.68  |\n",
      "| FPR (False Positive Rate)= FP/(FP+TN)) |  0.32  |\n",
      "| FNR (False Negative Rate)= FN/(TP+FN)) |  0.03  |\n",
      "| ACC (Accuracy)= (TP+TN)/(TP+FP+FN+TN)) | 91.98% |\n",
      "+----------------------------------------+--------+\n",
      "\n",
      "\n",
      "-------------------------- RandomizedSearchCV --------------------------\n",
      "\n"
     ]
    },
    {
     "data": {
      "image/png": "[encoded data removed]",
      "text/plain": [
       "<Figure size 432x288 with 1 Axes>"
      ]
     },
     "metadata": {
      "needs_background": "light"
     },
     "output_type": "display_data"
    },
    {
     "name": "stdout",
     "output_type": "stream",
     "text": [
      "\n",
      "\n",
      "+-------------------------------------------------+\n",
      "|   L1 Regularization with 'RandomizedSearchCV'   |\n",
      "+--------------------+----------+------+----------+\n",
      "| Hyperparameter (C) | Scoring  | Mean | Variance |\n",
      "+--------------------+----------+------+----------+\n",
      "|        1000        | Accuracy | 0.89 |   0.02   |\n",
      "|        100         | Accuracy | 0.90 |   0.01   |\n",
      "|        0.1         | Accuracy | 0.90 |   0.01   |\n",
      "|         1          | Accuracy | 0.92 |   0.00   |\n",
      "|         10         | Accuracy | 0.92 |   0.00   |\n",
      "|       0.0005       | Accuracy | 0.85 |   0.03   |\n",
      "|         5          | Accuracy | 0.92 |   0.00   |\n",
      "|       0.001        | Accuracy | 0.85 |   0.03   |\n",
      "|        0.05        | Accuracy | 0.88 |   0.01   |\n",
      "|        0.01        | Accuracy | 0.85 |   0.02   |\n",
      "+--------------------+----------+------+----------+\n",
      "\n",
      "+--------------------------------------------------------------------------------+\n",
      "|                Optimal hyperparameter & Testing accuracy score                 |\n",
      "+----------------+--------------------+----------------------------+-------------+\n",
      "| Regularization |  Cross Validation  | Optimal Hyperparameter (C) | Accuracy(%) |\n",
      "+----------------+--------------------+----------------------------+-------------+\n",
      "|       L1       | RandomizedSearchCV |             5              |    91.98    |\n",
      "+----------------+--------------------+----------------------------+-------------+\n",
      "\n",
      "+------------------------------------------------------------------+\n",
      "|              Classification Report with lambda = 5               |\n",
      "+----------------------+-----------+--------+----------+-----------+\n",
      "| Class Lable/Averages | Precision | Recall | F1-Score |  Support  |\n",
      "+----------------------+-----------+--------+----------+-----------+\n",
      "|       negative       |    0.82   |  0.68  |   0.74   |  17838.00 |\n",
      "|       positive       |    0.94   |  0.97  |   0.95   |  87534.00 |\n",
      "|      micro avg       |    0.92   |  0.92  |   0.92   | 105372.00 |\n",
      "|      macro avg       |    0.88   |  0.82  |   0.85   | 105372.00 |\n",
      "|     weighted avg     |    0.92   |  0.92  |   0.92   | 105372.00 |\n",
      "+----------------------+-----------+--------+----------+-----------+\n"
     ]
    },
    {
     "data": {
      "image/png": "[encoded data removed]",
      "text/plain": [
       "<Figure size 432x288 with 2 Axes>"
      ]
     },
     "metadata": {
      "needs_background": "light"
     },
     "output_type": "display_data"
    },
    {
     "name": "stdout",
     "output_type": "stream",
     "text": [
      "\n",
      "+-------------------------------------------------+\n",
      "|             Confusion Matrix Report             |\n",
      "+----------------------------------------+--------+\n",
      "|                  Term                  | Value  |\n",
      "+----------------------------------------+--------+\n",
      "|           TP (True Positive)           | 84801  |\n",
      "|           TN (True Negative)           | 12118  |\n",
      "|          FP (False Positive)           |  5720  |\n",
      "|          FN (False Negative)           |  2733  |\n",
      "| TPR (True Positive Rate)= TP/(TP+FN))  |  0.97  |\n",
      "| TNR (True Negative Rate)= TN/(TN+FP))  |  0.68  |\n",
      "| FPR (False Positive Rate)= FP/(FP+TN)) |  0.32  |\n",
      "| FNR (False Negative Rate)= FN/(TP+FN)) |  0.03  |\n",
      "| ACC (Accuracy)= (TP+TN)/(TP+FP+FN+TN)) | 91.98% |\n",
      "+----------------------------------------+--------+\n",
      "\n",
      "\n",
      "\n",
      "\n",
      "\n",
      "\n",
      "*****************************************************************************\n",
      "----------------------------- L2 Regularizaion -----------------------------\n",
      "*******************************************************************************\n",
      "\n",
      "\n",
      "-------------------------- GridSearchCV --------------------------\n",
      "\n"
     ]
    },
    {
     "data": {
      "image/png": "[encoded data removed]",
      "text/plain": [
       "<Figure size 432x288 with 1 Axes>"
      ]
     },
     "metadata": {
      "needs_background": "light"
     },
     "output_type": "display_data"
    },
    {
     "name": "stdout",
     "output_type": "stream",
     "text": [
      "\n",
      "\n",
      "+-------------------------------------------------+\n",
      "|      L2 Regularization with 'GridSearchCV'      |\n",
      "+--------------------+----------+------+----------+\n",
      "| Hyperparameter (C) | Scoring  | Mean | Variance |\n",
      "+--------------------+----------+------+----------+\n",
      "|       0.0001       | Accuracy | 0.85 |   0.03   |\n",
      "|       0.0005       | Accuracy | 0.85 |   0.03   |\n",
      "|       0.001        | Accuracy | 0.85 |   0.03   |\n",
      "|       0.005        | Accuracy | 0.85 |   0.03   |\n",
      "|        0.01        | Accuracy | 0.85 |   0.02   |\n",
      "|        0.05        | Accuracy | 0.88 |   0.01   |\n",
      "|        0.1         | Accuracy | 0.89 |   0.01   |\n",
      "|        0.5         | Accuracy | 0.91 |   0.01   |\n",
      "|         1          | Accuracy | 0.92 |   0.00   |\n",
      "|         5          | Accuracy | 0.92 |   0.00   |\n",
      "|         10         | Accuracy | 0.92 |   0.00   |\n",
      "|         50         | Accuracy | 0.92 |   0.00   |\n",
      "|        100         | Accuracy | 0.92 |   0.00   |\n",
      "|        500         | Accuracy | 0.91 |   0.01   |\n",
      "|        1000        | Accuracy | 0.91 |   0.01   |\n",
      "+--------------------+----------+------+----------+\n",
      "\n",
      "+------------------------------------------------------------------------------+\n",
      "|               Optimal hyperparameter & Testing accuracy score                |\n",
      "+----------------+------------------+----------------------------+-------------+\n",
      "| Regularization | Cross Validation | Optimal Hyperparameter (C) | Accuracy(%) |\n",
      "+----------------+------------------+----------------------------+-------------+\n",
      "|       L2       |   GridSearchCV   |             10             |    92.06    |\n",
      "+----------------+------------------+----------------------------+-------------+\n",
      "\n",
      "+------------------------------------------------------------------+\n",
      "|              Classification Report with lambda = 10              |\n",
      "+----------------------+-----------+--------+----------+-----------+\n",
      "| Class Lable/Averages | Precision | Recall | F1-Score |  Support  |\n",
      "+----------------------+-----------+--------+----------+-----------+\n",
      "|       negative       |    0.82   |  0.67  |   0.74   |  17838.00 |\n",
      "|       positive       |    0.94   |  0.97  |   0.95   |  87534.00 |\n",
      "|      micro avg       |    0.92   |  0.92  |   0.92   | 105372.00 |\n",
      "|      macro avg       |    0.88   |  0.82  |   0.85   | 105372.00 |\n",
      "|     weighted avg     |    0.92   |  0.92  |   0.92   | 105372.00 |\n",
      "+----------------------+-----------+--------+----------+-----------+\n"
     ]
    },
    {
     "data": {
      "image/png": "[encoded data removed]",
      "text/plain": [
       "<Figure size 432x288 with 2 Axes>"
      ]
     },
     "metadata": {
      "needs_background": "light"
     },
     "output_type": "display_data"
    },
    {
     "name": "stdout",
     "output_type": "stream",
     "text": [
      "\n",
      "+-------------------------------------------------+\n",
      "|             Confusion Matrix Report             |\n",
      "+----------------------------------------+--------+\n",
      "|                  Term                  | Value  |\n",
      "+----------------------------------------+--------+\n",
      "|           TP (True Positive)           | 84970  |\n",
      "|           TN (True Negative)           | 12031  |\n",
      "|          FP (False Positive)           |  5807  |\n",
      "|          FN (False Negative)           |  2564  |\n",
      "| TPR (True Positive Rate)= TP/(TP+FN))  |  0.97  |\n",
      "| TNR (True Negative Rate)= TN/(TN+FP))  |  0.67  |\n",
      "| FPR (False Positive Rate)= FP/(FP+TN)) |  0.33  |\n",
      "| FNR (False Negative Rate)= FN/(TP+FN)) |  0.03  |\n",
      "| ACC (Accuracy)= (TP+TN)/(TP+FP+FN+TN)) | 92.06% |\n",
      "+----------------------------------------+--------+\n",
      "\n",
      "\n",
      "-------------------------- RandomizedSearchCV --------------------------\n",
      "\n"
     ]
    },
    {
     "data": {
      "image/png": "[encoded data removed]",
      "text/plain": [
       "<Figure size 432x288 with 1 Axes>"
      ]
     },
     "metadata": {
      "needs_background": "light"
     },
     "output_type": "display_data"
    },
    {
     "name": "stdout",
     "output_type": "stream",
     "text": [
      "\n",
      "\n",
      "+-------------------------------------------------+\n",
      "|   L2 Regularization with 'RandomizedSearchCV'   |\n",
      "+--------------------+----------+------+----------+\n",
      "| Hyperparameter (C) | Scoring  | Mean | Variance |\n",
      "+--------------------+----------+------+----------+\n",
      "|       0.0001       | Accuracy | 0.85 |   0.03   |\n",
      "|         10         | Accuracy | 0.92 |   0.00   |\n",
      "|        100         | Accuracy | 0.92 |   0.00   |\n",
      "|        0.1         | Accuracy | 0.89 |   0.01   |\n",
      "|        0.05        | Accuracy | 0.88 |   0.01   |\n",
      "|        500         | Accuracy | 0.91 |   0.01   |\n",
      "|        1000        | Accuracy | 0.91 |   0.01   |\n",
      "|        0.5         | Accuracy | 0.91 |   0.01   |\n",
      "|         50         | Accuracy | 0.92 |   0.00   |\n",
      "|       0.0005       | Accuracy | 0.85 |   0.03   |\n",
      "+--------------------+----------+------+----------+\n",
      "\n",
      "+--------------------------------------------------------------------------------+\n",
      "|                Optimal hyperparameter & Testing accuracy score                 |\n",
      "+----------------+--------------------+----------------------------+-------------+\n",
      "| Regularization |  Cross Validation  | Optimal Hyperparameter (C) | Accuracy(%) |\n",
      "+----------------+--------------------+----------------------------+-------------+\n",
      "|       L2       | RandomizedSearchCV |             10             |    92.06    |\n",
      "+----------------+--------------------+----------------------------+-------------+\n",
      "\n",
      "+------------------------------------------------------------------+\n",
      "|              Classification Report with lambda = 10              |\n",
      "+----------------------+-----------+--------+----------+-----------+\n",
      "| Class Lable/Averages | Precision | Recall | F1-Score |  Support  |\n",
      "+----------------------+-----------+--------+----------+-----------+\n",
      "|       negative       |    0.82   |  0.67  |   0.74   |  17838.00 |\n",
      "|       positive       |    0.94   |  0.97  |   0.95   |  87534.00 |\n",
      "|      micro avg       |    0.92   |  0.92  |   0.92   | 105372.00 |\n",
      "|      macro avg       |    0.88   |  0.82  |   0.85   | 105372.00 |\n",
      "|     weighted avg     |    0.92   |  0.92  |   0.92   | 105372.00 |\n",
      "+----------------------+-----------+--------+----------+-----------+\n"
     ]
    },
    {
     "data": {
      "image/png": "[encoded data removed]",
      "text/plain": [
       "<Figure size 432x288 with 2 Axes>"
      ]
     },
     "metadata": {
      "needs_background": "light"
     },
     "output_type": "display_data"
    },
    {
     "name": "stdout",
     "output_type": "stream",
     "text": [
      "\n",
      "+-------------------------------------------------+\n",
      "|             Confusion Matrix Report             |\n",
      "+----------------------------------------+--------+\n",
      "|                  Term                  | Value  |\n",
      "+----------------------------------------+--------+\n",
      "|           TP (True Positive)           | 84970  |\n",
      "|           TN (True Negative)           | 12031  |\n",
      "|          FP (False Positive)           |  5807  |\n",
      "|          FN (False Negative)           |  2564  |\n",
      "| TPR (True Positive Rate)= TP/(TP+FN))  |  0.97  |\n",
      "| TNR (True Negative Rate)= TN/(TN+FP))  |  0.67  |\n",
      "| FPR (False Positive Rate)= FP/(FP+TN)) |  0.33  |\n",
      "| FNR (False Negative Rate)= FN/(TP+FN)) |  0.03  |\n",
      "| ACC (Accuracy)= (TP+TN)/(TP+FP+FN+TN)) | 92.06% |\n",
      "+----------------------------------------+--------+\n",
      "\n",
      "\n",
      "\n",
      "\n",
      "Wall time: 10min 44s\n"
     ]
    }
   ],
   "source": [
    "%%time\n",
    "\n",
    "# Perform logistic regression with l1 and l2 as a penalty, on bow\n",
    "try:    \n",
    "    run_logistic_regression(\"bow\",\n",
    "                            x_train = bow_train_features, \n",
    "                            x_test = bow_test_features, \n",
    "                            y_train = y_train,\n",
    "                            y_test = y_test)  \n",
    "except Exception:\n",
    "    traceback.print_exc()"
   ]
  },
  {
   "cell_type": "markdown",
   "metadata": {},
   "source": [
    "#### (3.2) Logistic regression on TF-IDF :"
   ]
  },
  {
   "cell_type": "code",
   "execution_count": 13,
   "metadata": {
    "scrolled": false
   },
   "outputs": [
    {
     "name": "stdout",
     "output_type": "stream",
     "text": [
      "\n",
      "\n",
      "*****************************************************************************\n",
      "----------------------------- L1 Regularizaion -----------------------------\n",
      "*******************************************************************************\n",
      "\n",
      "\n",
      "-------------------------- GridSearchCV --------------------------\n",
      "\n"
     ]
    },
    {
     "data": {
      "image/png": "[encoded data removed]",
      "text/plain": [
       "<Figure size 432x288 with 1 Axes>"
      ]
     },
     "metadata": {
      "needs_background": "light"
     },
     "output_type": "display_data"
    },
    {
     "name": "stdout",
     "output_type": "stream",
     "text": [
      "\n",
      "\n",
      "+-------------------------------------------------+\n",
      "|      L1 Regularization with 'GridSearchCV'      |\n",
      "+--------------------+----------+------+----------+\n",
      "| Hyperparameter (C) | Scoring  | Mean | Variance |\n",
      "+--------------------+----------+------+----------+\n",
      "|       0.0001       | Accuracy | 0.85 |   0.03   |\n",
      "|       0.0005       | Accuracy | 0.85 |   0.03   |\n",
      "|       0.001        | Accuracy | 0.85 |   0.03   |\n",
      "|       0.005        | Accuracy | 0.85 |   0.03   |\n",
      "|        0.01        | Accuracy | 0.85 |   0.03   |\n",
      "|        0.05        | Accuracy | 0.87 |   0.01   |\n",
      "|        0.1         | Accuracy | 0.89 |   0.02   |\n",
      "|        0.5         | Accuracy | 0.92 |   0.01   |\n",
      "|         1          | Accuracy | 0.92 |   0.01   |\n",
      "|         5          | Accuracy | 0.93 |   0.00   |\n",
      "|         10         | Accuracy | 0.93 |   0.00   |\n",
      "|         50         | Accuracy | 0.92 |   0.00   |\n",
      "|        100         | Accuracy | 0.92 |   0.00   |\n",
      "|        500         | Accuracy | 0.92 |   0.00   |\n",
      "|        1000        | Accuracy | 0.92 |   0.00   |\n",
      "+--------------------+----------+------+----------+\n",
      "\n",
      "+------------------------------------------------------------------------------+\n",
      "|               Optimal hyperparameter & Testing accuracy score                |\n",
      "+----------------+------------------+----------------------------+-------------+\n",
      "| Regularization | Cross Validation | Optimal Hyperparameter (C) | Accuracy(%) |\n",
      "+----------------+------------------+----------------------------+-------------+\n",
      "|       L1       |   GridSearchCV   |             5              |    93.08    |\n",
      "+----------------+------------------+----------------------------+-------------+\n",
      "\n",
      "+------------------------------------------------------------------+\n",
      "|              Classification Report with lambda = 5               |\n",
      "+----------------------+-----------+--------+----------+-----------+\n",
      "| Class Lable/Averages | Precision | Recall | F1-Score |  Support  |\n",
      "+----------------------+-----------+--------+----------+-----------+\n",
      "|       negative       |    0.84   |  0.73  |   0.78   |  17838.00 |\n",
      "|       positive       |    0.95   |  0.97  |   0.96   |  87534.00 |\n",
      "|      micro avg       |    0.93   |  0.93  |   0.93   | 105372.00 |\n",
      "|      macro avg       |    0.89   |  0.85  |   0.87   | 105372.00 |\n",
      "|     weighted avg     |    0.93   |  0.93  |   0.93   | 105372.00 |\n",
      "+----------------------+-----------+--------+----------+-----------+\n"
     ]
    },
    {
     "data": {
      "image/png": "[encoded data removed]",
      "text/plain": [
       "<Figure size 432x288 with 2 Axes>"
      ]
     },
     "metadata": {
      "needs_background": "light"
     },
     "output_type": "display_data"
    },
    {
     "name": "stdout",
     "output_type": "stream",
     "text": [
      "\n",
      "+-------------------------------------------------+\n",
      "|             Confusion Matrix Report             |\n",
      "+----------------------------------------+--------+\n",
      "|                  Term                  | Value  |\n",
      "+----------------------------------------+--------+\n",
      "|           TP (True Positive)           | 85011  |\n",
      "|           TN (True Negative)           | 13072  |\n",
      "|          FP (False Positive)           |  4766  |\n",
      "|          FN (False Negative)           |  2523  |\n",
      "| TPR (True Positive Rate)= TP/(TP+FN))  |  0.97  |\n",
      "| TNR (True Negative Rate)= TN/(TN+FP))  |  0.73  |\n",
      "| FPR (False Positive Rate)= FP/(FP+TN)) |  0.27  |\n",
      "| FNR (False Negative Rate)= FN/(TP+FN)) |  0.03  |\n",
      "| ACC (Accuracy)= (TP+TN)/(TP+FP+FN+TN)) | 93.08% |\n",
      "+----------------------------------------+--------+\n",
      "\n",
      "\n",
      "-------------------------- RandomizedSearchCV --------------------------\n",
      "\n"
     ]
    },
    {
     "data": {
      "image/png": "[encoded data removed]",
      "text/plain": [
       "<Figure size 432x288 with 1 Axes>"
      ]
     },
     "metadata": {
      "needs_background": "light"
     },
     "output_type": "display_data"
    },
    {
     "name": "stdout",
     "output_type": "stream",
     "text": [
      "\n",
      "\n",
      "+-------------------------------------------------+\n",
      "|   L1 Regularization with 'RandomizedSearchCV'   |\n",
      "+--------------------+----------+------+----------+\n",
      "| Hyperparameter (C) | Scoring  | Mean | Variance |\n",
      "+--------------------+----------+------+----------+\n",
      "|         50         | Accuracy | 0.92 |   0.00   |\n",
      "|        0.1         | Accuracy | 0.89 |   0.02   |\n",
      "|        0.5         | Accuracy | 0.92 |   0.01   |\n",
      "|        1000        | Accuracy | 0.92 |   0.00   |\n",
      "|       0.0005       | Accuracy | 0.85 |   0.03   |\n",
      "|        100         | Accuracy | 0.92 |   0.00   |\n",
      "|        500         | Accuracy | 0.92 |   0.00   |\n",
      "|         1          | Accuracy | 0.92 |   0.01   |\n",
      "|       0.0001       | Accuracy | 0.85 |   0.03   |\n",
      "|         5          | Accuracy | 0.93 |   0.00   |\n",
      "+--------------------+----------+------+----------+\n",
      "\n",
      "+--------------------------------------------------------------------------------+\n",
      "|                Optimal hyperparameter & Testing accuracy score                 |\n",
      "+----------------+--------------------+----------------------------+-------------+\n",
      "| Regularization |  Cross Validation  | Optimal Hyperparameter (C) | Accuracy(%) |\n",
      "+----------------+--------------------+----------------------------+-------------+\n",
      "|       L1       | RandomizedSearchCV |             5              |    93.08    |\n",
      "+----------------+--------------------+----------------------------+-------------+\n",
      "\n",
      "+------------------------------------------------------------------+\n",
      "|              Classification Report with lambda = 5               |\n",
      "+----------------------+-----------+--------+----------+-----------+\n",
      "| Class Lable/Averages | Precision | Recall | F1-Score |  Support  |\n",
      "+----------------------+-----------+--------+----------+-----------+\n",
      "|       negative       |    0.84   |  0.73  |   0.78   |  17838.00 |\n",
      "|       positive       |    0.95   |  0.97  |   0.96   |  87534.00 |\n",
      "|      micro avg       |    0.93   |  0.93  |   0.93   | 105372.00 |\n",
      "|      macro avg       |    0.89   |  0.85  |   0.87   | 105372.00 |\n",
      "|     weighted avg     |    0.93   |  0.93  |   0.93   | 105372.00 |\n",
      "+----------------------+-----------+--------+----------+-----------+\n"
     ]
    },
    {
     "data": {
      "image/png": "[encoded data removed]",
      "text/plain": [
       "<Figure size 432x288 with 2 Axes>"
      ]
     },
     "metadata": {
      "needs_background": "light"
     },
     "output_type": "display_data"
    },
    {
     "name": "stdout",
     "output_type": "stream",
     "text": [
      "\n",
      "+-------------------------------------------------+\n",
      "|             Confusion Matrix Report             |\n",
      "+----------------------------------------+--------+\n",
      "|                  Term                  | Value  |\n",
      "+----------------------------------------+--------+\n",
      "|           TP (True Positive)           | 85011  |\n",
      "|           TN (True Negative)           | 13073  |\n",
      "|          FP (False Positive)           |  4765  |\n",
      "|          FN (False Negative)           |  2523  |\n",
      "| TPR (True Positive Rate)= TP/(TP+FN))  |  0.97  |\n",
      "| TNR (True Negative Rate)= TN/(TN+FP))  |  0.73  |\n",
      "| FPR (False Positive Rate)= FP/(FP+TN)) |  0.27  |\n",
      "| FNR (False Negative Rate)= FN/(TP+FN)) |  0.03  |\n",
      "| ACC (Accuracy)= (TP+TN)/(TP+FP+FN+TN)) | 93.08% |\n",
      "+----------------------------------------+--------+\n",
      "\n",
      "\n",
      "\n",
      "\n",
      "\n",
      "\n",
      "*****************************************************************************\n",
      "----------------------------- L2 Regularizaion -----------------------------\n",
      "*******************************************************************************\n",
      "\n",
      "\n",
      "-------------------------- GridSearchCV --------------------------\n",
      "\n"
     ]
    },
    {
     "data": {
      "image/png": "[encoded data removed]",
      "text/plain": [
       "<Figure size 432x288 with 1 Axes>"
      ]
     },
     "metadata": {
      "needs_background": "light"
     },
     "output_type": "display_data"
    },
    {
     "name": "stdout",
     "output_type": "stream",
     "text": [
      "\n",
      "\n",
      "+-------------------------------------------------+\n",
      "|      L2 Regularization with 'GridSearchCV'      |\n",
      "+--------------------+----------+------+----------+\n",
      "| Hyperparameter (C) | Scoring  | Mean | Variance |\n",
      "+--------------------+----------+------+----------+\n",
      "|       0.0001       | Accuracy | 0.85 |   0.03   |\n",
      "|       0.0005       | Accuracy | 0.85 |   0.03   |\n",
      "|       0.001        | Accuracy | 0.85 |   0.03   |\n",
      "|       0.005        | Accuracy | 0.85 |   0.03   |\n",
      "|        0.01        | Accuracy | 0.85 |   0.03   |\n",
      "|        0.05        | Accuracy | 0.85 |   0.02   |\n",
      "|        0.1         | Accuracy | 0.87 |   0.02   |\n",
      "|        0.5         | Accuracy | 0.90 |   0.02   |\n",
      "|         1          | Accuracy | 0.91 |   0.02   |\n",
      "|         5          | Accuracy | 0.93 |   0.01   |\n",
      "|         10         | Accuracy | 0.93 |   0.01   |\n",
      "|         50         | Accuracy | 0.93 |   0.00   |\n",
      "|        100         | Accuracy | 0.93 |   0.00   |\n",
      "|        500         | Accuracy | 0.93 |   0.00   |\n",
      "|        1000        | Accuracy | 0.93 |   0.00   |\n",
      "+--------------------+----------+------+----------+\n",
      "\n",
      "+------------------------------------------------------------------------------+\n",
      "|               Optimal hyperparameter & Testing accuracy score                |\n",
      "+----------------+------------------+----------------------------+-------------+\n",
      "| Regularization | Cross Validation | Optimal Hyperparameter (C) | Accuracy(%) |\n",
      "+----------------+------------------+----------------------------+-------------+\n",
      "|       L2       |   GridSearchCV   |            100             |    93.17    |\n",
      "+----------------+------------------+----------------------------+-------------+\n",
      "\n",
      "+------------------------------------------------------------------+\n",
      "|             Classification Report with lambda = 100              |\n",
      "+----------------------+-----------+--------+----------+-----------+\n",
      "| Class Lable/Averages | Precision | Recall | F1-Score |  Support  |\n",
      "+----------------------+-----------+--------+----------+-----------+\n",
      "|       negative       |    0.85   |  0.73  |   0.78   |  17838.00 |\n",
      "|       positive       |    0.95   |  0.97  |   0.96   |  87534.00 |\n",
      "|      micro avg       |    0.93   |  0.93  |   0.93   | 105372.00 |\n",
      "|      macro avg       |    0.90   |  0.85  |   0.87   | 105372.00 |\n",
      "|     weighted avg     |    0.93   |  0.93  |   0.93   | 105372.00 |\n",
      "+----------------------+-----------+--------+----------+-----------+\n"
     ]
    },
    {
     "data": {
      "image/png": "[encoded data removed]",
      "text/plain": [
       "<Figure size 432x288 with 2 Axes>"
      ]
     },
     "metadata": {
      "needs_background": "light"
     },
     "output_type": "display_data"
    },
    {
     "name": "stdout",
     "output_type": "stream",
     "text": [
      "\n",
      "+-------------------------------------------------+\n",
      "|             Confusion Matrix Report             |\n",
      "+----------------------------------------+--------+\n",
      "|                  Term                  | Value  |\n",
      "+----------------------------------------+--------+\n",
      "|           TP (True Positive)           | 85237  |\n",
      "|           TN (True Negative)           | 12940  |\n",
      "|          FP (False Positive)           |  4898  |\n",
      "|          FN (False Negative)           |  2297  |\n",
      "| TPR (True Positive Rate)= TP/(TP+FN))  |  0.97  |\n",
      "| TNR (True Negative Rate)= TN/(TN+FP))  |  0.73  |\n",
      "| FPR (False Positive Rate)= FP/(FP+TN)) |  0.27  |\n",
      "| FNR (False Negative Rate)= FN/(TP+FN)) |  0.03  |\n",
      "| ACC (Accuracy)= (TP+TN)/(TP+FP+FN+TN)) | 93.17% |\n",
      "+----------------------------------------+--------+\n",
      "\n",
      "\n",
      "-------------------------- RandomizedSearchCV --------------------------\n",
      "\n"
     ]
    },
    {
     "data": {
      "image/png": "[encoded data removed]",
      "text/plain": [
       "<Figure size 432x288 with 1 Axes>"
      ]
     },
     "metadata": {
      "needs_background": "light"
     },
     "output_type": "display_data"
    },
    {
     "name": "stdout",
     "output_type": "stream",
     "text": [
      "\n",
      "\n",
      "+-------------------------------------------------+\n",
      "|   L2 Regularization with 'RandomizedSearchCV'   |\n",
      "+--------------------+----------+------+----------+\n",
      "| Hyperparameter (C) | Scoring  | Mean | Variance |\n",
      "+--------------------+----------+------+----------+\n",
      "|         5          | Accuracy | 0.93 |   0.01   |\n",
      "|       0.001        | Accuracy | 0.85 |   0.03   |\n",
      "|        0.01        | Accuracy | 0.85 |   0.03   |\n",
      "|        0.1         | Accuracy | 0.87 |   0.02   |\n",
      "|       0.005        | Accuracy | 0.85 |   0.03   |\n",
      "|        100         | Accuracy | 0.93 |   0.00   |\n",
      "|        0.5         | Accuracy | 0.90 |   0.02   |\n",
      "|        500         | Accuracy | 0.93 |   0.00   |\n",
      "|         50         | Accuracy | 0.93 |   0.00   |\n",
      "|       0.0005       | Accuracy | 0.85 |   0.03   |\n",
      "+--------------------+----------+------+----------+\n",
      "\n",
      "+--------------------------------------------------------------------------------+\n",
      "|                Optimal hyperparameter & Testing accuracy score                 |\n",
      "+----------------+--------------------+----------------------------+-------------+\n",
      "| Regularization |  Cross Validation  | Optimal Hyperparameter (C) | Accuracy(%) |\n",
      "+----------------+--------------------+----------------------------+-------------+\n",
      "|       L2       | RandomizedSearchCV |            100             |    93.17    |\n",
      "+----------------+--------------------+----------------------------+-------------+\n",
      "\n",
      "+------------------------------------------------------------------+\n",
      "|             Classification Report with lambda = 100              |\n",
      "+----------------------+-----------+--------+----------+-----------+\n",
      "| Class Lable/Averages | Precision | Recall | F1-Score |  Support  |\n",
      "+----------------------+-----------+--------+----------+-----------+\n",
      "|       negative       |    0.85   |  0.73  |   0.78   |  17838.00 |\n",
      "|       positive       |    0.95   |  0.97  |   0.96   |  87534.00 |\n",
      "|      micro avg       |    0.93   |  0.93  |   0.93   | 105372.00 |\n",
      "|      macro avg       |    0.90   |  0.85  |   0.87   | 105372.00 |\n",
      "|     weighted avg     |    0.93   |  0.93  |   0.93   | 105372.00 |\n",
      "+----------------------+-----------+--------+----------+-----------+\n"
     ]
    },
    {
     "data": {
      "image/png": "[encoded data removed]",
      "text/plain": [
       "<Figure size 432x288 with 2 Axes>"
      ]
     },
     "metadata": {
      "needs_background": "light"
     },
     "output_type": "display_data"
    },
    {
     "name": "stdout",
     "output_type": "stream",
     "text": [
      "\n",
      "+-------------------------------------------------+\n",
      "|             Confusion Matrix Report             |\n",
      "+----------------------------------------+--------+\n",
      "|                  Term                  | Value  |\n",
      "+----------------------------------------+--------+\n",
      "|           TP (True Positive)           | 85237  |\n",
      "|           TN (True Negative)           | 12940  |\n",
      "|          FP (False Positive)           |  4898  |\n",
      "|          FN (False Negative)           |  2297  |\n",
      "| TPR (True Positive Rate)= TP/(TP+FN))  |  0.97  |\n",
      "| TNR (True Negative Rate)= TN/(TN+FP))  |  0.73  |\n",
      "| FPR (False Positive Rate)= FP/(FP+TN)) |  0.27  |\n",
      "| FNR (False Negative Rate)= FN/(TP+FN)) |  0.03  |\n",
      "| ACC (Accuracy)= (TP+TN)/(TP+FP+FN+TN)) | 93.17% |\n",
      "+----------------------------------------+--------+\n",
      "\n",
      "\n",
      "\n",
      "\n",
      "Wall time: 11min 7s\n"
     ]
    }
   ],
   "source": [
    "%%time\n",
    "\n",
    "# Perform logistic regression with l1 and l2 as a penalty, on TF-IDF\n",
    "try:    \n",
    "    run_logistic_regression(\"tf-idf\",\n",
    "                            x_train = tf_idf_train_features, \n",
    "                            x_test = tf_idf_test_features, \n",
    "                            y_train = y_train,\n",
    "                            y_test = y_test)  \n",
    "except Exception:\n",
    "    traceback.print_exc()"
   ]
  },
  {
   "cell_type": "markdown",
   "metadata": {},
   "source": [
    "#### (3.3) Logistic regression on Average Word2Vec :"
   ]
  },
  {
   "cell_type": "code",
   "execution_count": 14,
   "metadata": {
    "scrolled": false
   },
   "outputs": [
    {
     "name": "stdout",
     "output_type": "stream",
     "text": [
      "\n",
      "\n",
      "*****************************************************************************\n",
      "----------------------------- L1 Regularizaion -----------------------------\n",
      "*******************************************************************************\n",
      "\n",
      "\n",
      "-------------------------- GridSearchCV --------------------------\n",
      "\n"
     ]
    },
    {
     "data": {
      "image/png": "[encoded data removed]",
      "text/plain": [
       "<Figure size 432x288 with 1 Axes>"
      ]
     },
     "metadata": {
      "needs_background": "light"
     },
     "output_type": "display_data"
    },
    {
     "name": "stdout",
     "output_type": "stream",
     "text": [
      "\n",
      "\n",
      "+-------------------------------------------------+\n",
      "|      L1 Regularization with 'GridSearchCV'      |\n",
      "+--------------------+----------+------+----------+\n",
      "| Hyperparameter (C) | Scoring  | Mean | Variance |\n",
      "+--------------------+----------+------+----------+\n",
      "|       0.0001       | Accuracy | 0.85 |   0.03   |\n",
      "|       0.0005       | Accuracy | 0.85 |   0.03   |\n",
      "|       0.001        | Accuracy | 0.85 |   0.03   |\n",
      "|       0.005        | Accuracy | 0.87 |   0.01   |\n",
      "|        0.01        | Accuracy | 0.88 |   0.00   |\n",
      "|        0.05        | Accuracy | 0.90 |   0.01   |\n",
      "|        0.1         | Accuracy | 0.90 |   0.01   |\n",
      "|        0.5         | Accuracy | 0.90 |   0.01   |\n",
      "|         1          | Accuracy | 0.90 |   0.01   |\n",
      "|         5          | Accuracy | 0.90 |   0.01   |\n",
      "|         10         | Accuracy | 0.90 |   0.01   |\n",
      "|         50         | Accuracy | 0.90 |   0.01   |\n",
      "|        100         | Accuracy | 0.90 |   0.01   |\n",
      "|        500         | Accuracy | 0.90 |   0.01   |\n",
      "|        1000        | Accuracy | 0.90 |   0.01   |\n",
      "+--------------------+----------+------+----------+\n",
      "\n",
      "+------------------------------------------------------------------------------+\n",
      "|               Optimal hyperparameter & Testing accuracy score                |\n",
      "+----------------+------------------+----------------------------+-------------+\n",
      "| Regularization | Cross Validation | Optimal Hyperparameter (C) | Accuracy(%) |\n",
      "+----------------+------------------+----------------------------+-------------+\n",
      "|       L1       |   GridSearchCV   |             50             |    89.30    |\n",
      "+----------------+------------------+----------------------------+-------------+\n",
      "\n",
      "+------------------------------------------------------------------+\n",
      "|              Classification Report with lambda = 50              |\n",
      "+----------------------+-----------+--------+----------+-----------+\n",
      "| Class Lable/Averages | Precision | Recall | F1-Score |  Support  |\n",
      "+----------------------+-----------+--------+----------+-----------+\n",
      "|       negative       |    0.76   |  0.53  |   0.63   |  17838.00 |\n",
      "|       positive       |    0.91   |  0.97  |   0.94   |  87534.00 |\n",
      "|      micro avg       |    0.89   |  0.89  |   0.89   | 105372.00 |\n",
      "|      macro avg       |    0.84   |  0.75  |   0.78   | 105372.00 |\n",
      "|     weighted avg     |    0.89   |  0.89  |   0.89   | 105372.00 |\n",
      "+----------------------+-----------+--------+----------+-----------+\n"
     ]
    },
    {
     "data": {
      "image/png": "[encoded data removed]",
      "text/plain": [
       "<Figure size 432x288 with 2 Axes>"
      ]
     },
     "metadata": {
      "needs_background": "light"
     },
     "output_type": "display_data"
    },
    {
     "name": "stdout",
     "output_type": "stream",
     "text": [
      "\n",
      "+-------------------------------------------------+\n",
      "|             Confusion Matrix Report             |\n",
      "+----------------------------------------+--------+\n",
      "|                  Term                  | Value  |\n",
      "+----------------------------------------+--------+\n",
      "|           TP (True Positive)           | 84586  |\n",
      "|           TN (True Negative)           |  9513  |\n",
      "|          FP (False Positive)           |  8325  |\n",
      "|          FN (False Negative)           |  2948  |\n",
      "| TPR (True Positive Rate)= TP/(TP+FN))  |  0.97  |\n",
      "| TNR (True Negative Rate)= TN/(TN+FP))  |  0.53  |\n",
      "| FPR (False Positive Rate)= FP/(FP+TN)) |  0.47  |\n",
      "| FNR (False Negative Rate)= FN/(TP+FN)) |  0.03  |\n",
      "| ACC (Accuracy)= (TP+TN)/(TP+FP+FN+TN)) | 89.30% |\n",
      "+----------------------------------------+--------+\n",
      "\n",
      "\n",
      "-------------------------- RandomizedSearchCV --------------------------\n",
      "\n"
     ]
    },
    {
     "data": {
      "image/png": "[encoded data removed]",
      "text/plain": [
       "<Figure size 432x288 with 1 Axes>"
      ]
     },
     "metadata": {
      "needs_background": "light"
     },
     "output_type": "display_data"
    },
    {
     "name": "stdout",
     "output_type": "stream",
     "text": [
      "\n",
      "\n",
      "+-------------------------------------------------+\n",
      "|   L1 Regularization with 'RandomizedSearchCV'   |\n",
      "+--------------------+----------+------+----------+\n",
      "| Hyperparameter (C) | Scoring  | Mean | Variance |\n",
      "+--------------------+----------+------+----------+\n",
      "|        0.5         | Accuracy | 0.90 |   0.01   |\n",
      "|        500         | Accuracy | 0.90 |   0.01   |\n",
      "|         50         | Accuracy | 0.90 |   0.01   |\n",
      "|         10         | Accuracy | 0.90 |   0.01   |\n",
      "|       0.0001       | Accuracy | 0.85 |   0.03   |\n",
      "|       0.0005       | Accuracy | 0.85 |   0.03   |\n",
      "|        1000        | Accuracy | 0.90 |   0.01   |\n",
      "|        0.1         | Accuracy | 0.90 |   0.01   |\n",
      "|       0.005        | Accuracy | 0.87 |   0.01   |\n",
      "|        100         | Accuracy | 0.90 |   0.01   |\n",
      "+--------------------+----------+------+----------+\n",
      "\n",
      "+--------------------------------------------------------------------------------+\n",
      "|                Optimal hyperparameter & Testing accuracy score                 |\n",
      "+----------------+--------------------+----------------------------+-------------+\n",
      "| Regularization |  Cross Validation  | Optimal Hyperparameter (C) | Accuracy(%) |\n",
      "+----------------+--------------------+----------------------------+-------------+\n",
      "|       L1       | RandomizedSearchCV |            100             |    89.30    |\n",
      "+----------------+--------------------+----------------------------+-------------+\n",
      "\n",
      "+------------------------------------------------------------------+\n",
      "|             Classification Report with lambda = 100              |\n",
      "+----------------------+-----------+--------+----------+-----------+\n",
      "| Class Lable/Averages | Precision | Recall | F1-Score |  Support  |\n",
      "+----------------------+-----------+--------+----------+-----------+\n",
      "|       negative       |    0.76   |  0.53  |   0.63   |  17838.00 |\n",
      "|       positive       |    0.91   |  0.97  |   0.94   |  87534.00 |\n",
      "|      micro avg       |    0.89   |  0.89  |   0.89   | 105372.00 |\n",
      "|      macro avg       |    0.84   |  0.75  |   0.78   | 105372.00 |\n",
      "|     weighted avg     |    0.89   |  0.89  |   0.89   | 105372.00 |\n",
      "+----------------------+-----------+--------+----------+-----------+\n"
     ]
    },
    {
     "data": {
      "image/png": "[encoded data removed]",
      "text/plain": [
       "<Figure size 432x288 with 2 Axes>"
      ]
     },
     "metadata": {
      "needs_background": "light"
     },
     "output_type": "display_data"
    },
    {
     "name": "stdout",
     "output_type": "stream",
     "text": [
      "\n",
      "+-------------------------------------------------+\n",
      "|             Confusion Matrix Report             |\n",
      "+----------------------------------------+--------+\n",
      "|                  Term                  | Value  |\n",
      "+----------------------------------------+--------+\n",
      "|           TP (True Positive)           | 84586  |\n",
      "|           TN (True Negative)           |  9513  |\n",
      "|          FP (False Positive)           |  8325  |\n",
      "|          FN (False Negative)           |  2948  |\n",
      "| TPR (True Positive Rate)= TP/(TP+FN))  |  0.97  |\n",
      "| TNR (True Negative Rate)= TN/(TN+FP))  |  0.53  |\n",
      "| FPR (False Positive Rate)= FP/(FP+TN)) |  0.47  |\n",
      "| FNR (False Negative Rate)= FN/(TP+FN)) |  0.03  |\n",
      "| ACC (Accuracy)= (TP+TN)/(TP+FP+FN+TN)) | 89.30% |\n",
      "+----------------------------------------+--------+\n",
      "\n",
      "\n",
      "\n",
      "\n",
      "\n",
      "\n",
      "*****************************************************************************\n",
      "----------------------------- L2 Regularizaion -----------------------------\n",
      "*******************************************************************************\n",
      "\n",
      "\n",
      "-------------------------- GridSearchCV --------------------------\n",
      "\n"
     ]
    },
    {
     "data": {
      "image/png": "[encoded data removed]",
      "text/plain": [
       "<Figure size 432x288 with 1 Axes>"
      ]
     },
     "metadata": {
      "needs_background": "light"
     },
     "output_type": "display_data"
    },
    {
     "name": "stdout",
     "output_type": "stream",
     "text": [
      "\n",
      "\n",
      "+-------------------------------------------------+\n",
      "|      L2 Regularization with 'GridSearchCV'      |\n",
      "+--------------------+----------+------+----------+\n",
      "| Hyperparameter (C) | Scoring  | Mean | Variance |\n",
      "+--------------------+----------+------+----------+\n",
      "|       0.0001       | Accuracy | 0.85 |   0.03   |\n",
      "|       0.0005       | Accuracy | 0.85 |   0.03   |\n",
      "|       0.001        | Accuracy | 0.85 |   0.03   |\n",
      "|       0.005        | Accuracy | 0.87 |   0.01   |\n",
      "|        0.01        | Accuracy | 0.88 |   0.00   |\n",
      "|        0.05        | Accuracy | 0.89 |   0.01   |\n",
      "|        0.1         | Accuracy | 0.90 |   0.01   |\n",
      "|        0.5         | Accuracy | 0.90 |   0.01   |\n",
      "|         1          | Accuracy | 0.90 |   0.01   |\n",
      "|         5          | Accuracy | 0.90 |   0.01   |\n",
      "|         10         | Accuracy | 0.90 |   0.01   |\n",
      "|         50         | Accuracy | 0.90 |   0.01   |\n",
      "|        100         | Accuracy | 0.90 |   0.01   |\n",
      "|        500         | Accuracy | 0.90 |   0.01   |\n",
      "|        1000        | Accuracy | 0.90 |   0.01   |\n",
      "+--------------------+----------+------+----------+\n",
      "\n",
      "+------------------------------------------------------------------------------+\n",
      "|               Optimal hyperparameter & Testing accuracy score                |\n",
      "+----------------+------------------+----------------------------+-------------+\n",
      "| Regularization | Cross Validation | Optimal Hyperparameter (C) | Accuracy(%) |\n",
      "+----------------+------------------+----------------------------+-------------+\n",
      "|       L2       |   GridSearchCV   |            100             |    89.30    |\n",
      "+----------------+------------------+----------------------------+-------------+\n",
      "\n",
      "+------------------------------------------------------------------+\n",
      "|             Classification Report with lambda = 100              |\n",
      "+----------------------+-----------+--------+----------+-----------+\n",
      "| Class Lable/Averages | Precision | Recall | F1-Score |  Support  |\n",
      "+----------------------+-----------+--------+----------+-----------+\n",
      "|       negative       |    0.76   |  0.53  |   0.63   |  17838.00 |\n",
      "|       positive       |    0.91   |  0.97  |   0.94   |  87534.00 |\n",
      "|      micro avg       |    0.89   |  0.89  |   0.89   | 105372.00 |\n",
      "|      macro avg       |    0.84   |  0.75  |   0.78   | 105372.00 |\n",
      "|     weighted avg     |    0.89   |  0.89  |   0.89   | 105372.00 |\n",
      "+----------------------+-----------+--------+----------+-----------+\n"
     ]
    },
    {
     "data": {
      "image/png": "[encoded data removed]",
      "text/plain": [
       "<Figure size 432x288 with 2 Axes>"
      ]
     },
     "metadata": {
      "needs_background": "light"
     },
     "output_type": "display_data"
    },
    {
     "name": "stdout",
     "output_type": "stream",
     "text": [
      "\n",
      "+-------------------------------------------------+\n",
      "|             Confusion Matrix Report             |\n",
      "+----------------------------------------+--------+\n",
      "|                  Term                  | Value  |\n",
      "+----------------------------------------+--------+\n",
      "|           TP (True Positive)           | 84585  |\n",
      "|           TN (True Negative)           |  9509  |\n",
      "|          FP (False Positive)           |  8329  |\n",
      "|          FN (False Negative)           |  2949  |\n",
      "| TPR (True Positive Rate)= TP/(TP+FN))  |  0.97  |\n",
      "| TNR (True Negative Rate)= TN/(TN+FP))  |  0.53  |\n",
      "| FPR (False Positive Rate)= FP/(FP+TN)) |  0.47  |\n",
      "| FNR (False Negative Rate)= FN/(TP+FN)) |  0.03  |\n",
      "| ACC (Accuracy)= (TP+TN)/(TP+FP+FN+TN)) | 89.30% |\n",
      "+----------------------------------------+--------+\n",
      "\n",
      "\n",
      "-------------------------- RandomizedSearchCV --------------------------\n",
      "\n"
     ]
    },
    {
     "data": {
      "image/png": "[encoded data removed]",
      "text/plain": [
       "<Figure size 432x288 with 1 Axes>"
      ]
     },
     "metadata": {
      "needs_background": "light"
     },
     "output_type": "display_data"
    },
    {
     "name": "stdout",
     "output_type": "stream",
     "text": [
      "\n",
      "\n",
      "+-------------------------------------------------+\n",
      "|   L2 Regularization with 'RandomizedSearchCV'   |\n",
      "+--------------------+----------+------+----------+\n",
      "| Hyperparameter (C) | Scoring  | Mean | Variance |\n",
      "+--------------------+----------+------+----------+\n",
      "|        0.5         | Accuracy | 0.90 |   0.01   |\n",
      "|        100         | Accuracy | 0.90 |   0.01   |\n",
      "|       0.001        | Accuracy | 0.85 |   0.03   |\n",
      "|       0.0005       | Accuracy | 0.85 |   0.03   |\n",
      "|       0.005        | Accuracy | 0.87 |   0.01   |\n",
      "|        0.1         | Accuracy | 0.90 |   0.01   |\n",
      "|        0.05        | Accuracy | 0.89 |   0.01   |\n",
      "|       0.0001       | Accuracy | 0.85 |   0.03   |\n",
      "|        0.01        | Accuracy | 0.88 |   0.00   |\n",
      "|        500         | Accuracy | 0.90 |   0.01   |\n",
      "+--------------------+----------+------+----------+\n",
      "\n",
      "+--------------------------------------------------------------------------------+\n",
      "|                Optimal hyperparameter & Testing accuracy score                 |\n",
      "+----------------+--------------------+----------------------------+-------------+\n",
      "| Regularization |  Cross Validation  | Optimal Hyperparameter (C) | Accuracy(%) |\n",
      "+----------------+--------------------+----------------------------+-------------+\n",
      "|       L2       | RandomizedSearchCV |            100             |    89.30    |\n",
      "+----------------+--------------------+----------------------------+-------------+\n",
      "\n",
      "+------------------------------------------------------------------+\n",
      "|             Classification Report with lambda = 100              |\n",
      "+----------------------+-----------+--------+----------+-----------+\n",
      "| Class Lable/Averages | Precision | Recall | F1-Score |  Support  |\n",
      "+----------------------+-----------+--------+----------+-----------+\n",
      "|       negative       |    0.76   |  0.53  |   0.63   |  17838.00 |\n",
      "|       positive       |    0.91   |  0.97  |   0.94   |  87534.00 |\n",
      "|      micro avg       |    0.89   |  0.89  |   0.89   | 105372.00 |\n",
      "|      macro avg       |    0.84   |  0.75  |   0.78   | 105372.00 |\n",
      "|     weighted avg     |    0.89   |  0.89  |   0.89   | 105372.00 |\n",
      "+----------------------+-----------+--------+----------+-----------+\n"
     ]
    },
    {
     "data": {
      "image/png": "[encoded data removed]",
      "text/plain": [
       "<Figure size 432x288 with 2 Axes>"
      ]
     },
     "metadata": {
      "needs_background": "light"
     },
     "output_type": "display_data"
    },
    {
     "name": "stdout",
     "output_type": "stream",
     "text": [
      "\n",
      "+-------------------------------------------------+\n",
      "|             Confusion Matrix Report             |\n",
      "+----------------------------------------+--------+\n",
      "|                  Term                  | Value  |\n",
      "+----------------------------------------+--------+\n",
      "|           TP (True Positive)           | 84585  |\n",
      "|           TN (True Negative)           |  9509  |\n",
      "|          FP (False Positive)           |  8329  |\n",
      "|          FN (False Negative)           |  2949  |\n",
      "| TPR (True Positive Rate)= TP/(TP+FN))  |  0.97  |\n",
      "| TNR (True Negative Rate)= TN/(TN+FP))  |  0.53  |\n",
      "| FPR (False Positive Rate)= FP/(FP+TN)) |  0.47  |\n",
      "| FNR (False Negative Rate)= FN/(TP+FN)) |  0.03  |\n",
      "| ACC (Accuracy)= (TP+TN)/(TP+FP+FN+TN)) | 89.30% |\n",
      "+----------------------------------------+--------+\n",
      "\n",
      "\n",
      "\n",
      "\n",
      "Wall time: 6min 46s\n"
     ]
    }
   ],
   "source": [
    "%%time\n",
    "\n",
    "# Perform logistic regression with l1 and l2 as a penalty, on average word2vec\n",
    "try:\n",
    "    run_logistic_regression(\"avg-w2v\",\n",
    "                            x_train = avg_w2v_train, \n",
    "                            x_test = avg_w2v_test, \n",
    "                            y_train = y_train,\n",
    "                            y_test = y_test)  \n",
    "except Exception:\n",
    "    traceback.print_exc()"
   ]
  },
  {
   "cell_type": "markdown",
   "metadata": {},
   "source": [
    "#### (3.4) Logistic regression on TF-IDF weighted Word2Vec :"
   ]
  },
  {
   "cell_type": "code",
   "execution_count": 15,
   "metadata": {
    "scrolled": false
   },
   "outputs": [
    {
     "name": "stdout",
     "output_type": "stream",
     "text": [
      "\n",
      "\n",
      "*****************************************************************************\n",
      "----------------------------- L1 Regularizaion -----------------------------\n",
      "*******************************************************************************\n",
      "\n",
      "\n",
      "-------------------------- GridSearchCV --------------------------\n",
      "\n"
     ]
    },
    {
     "data": {
      "image/png": "[encoded data removed]",
      "text/plain": [
       "<Figure size 432x288 with 1 Axes>"
      ]
     },
     "metadata": {
      "needs_background": "light"
     },
     "output_type": "display_data"
    },
    {
     "name": "stdout",
     "output_type": "stream",
     "text": [
      "\n",
      "\n",
      "+-------------------------------------------------+\n",
      "|      L1 Regularization with 'GridSearchCV'      |\n",
      "+--------------------+----------+------+----------+\n",
      "| Hyperparameter (C) | Scoring  | Mean | Variance |\n",
      "+--------------------+----------+------+----------+\n",
      "|       0.0001       | Accuracy | 0.85 |   0.03   |\n",
      "|       0.0005       | Accuracy | 0.85 |   0.03   |\n",
      "|       0.001        | Accuracy | 0.85 |   0.03   |\n",
      "|       0.005        | Accuracy | 0.86 |   0.01   |\n",
      "|        0.01        | Accuracy | 0.87 |   0.00   |\n",
      "|        0.05        | Accuracy | 0.88 |   0.01   |\n",
      "|        0.1         | Accuracy | 0.88 |   0.02   |\n",
      "|        0.5         | Accuracy | 0.88 |   0.02   |\n",
      "|         1          | Accuracy | 0.88 |   0.02   |\n",
      "|         5          | Accuracy | 0.88 |   0.02   |\n",
      "|         10         | Accuracy | 0.88 |   0.02   |\n",
      "|         50         | Accuracy | 0.88 |   0.02   |\n",
      "|        100         | Accuracy | 0.88 |   0.02   |\n",
      "|        500         | Accuracy | 0.88 |   0.02   |\n",
      "|        1000        | Accuracy | 0.88 |   0.02   |\n",
      "+--------------------+----------+------+----------+\n",
      "\n",
      "+------------------------------------------------------------------------------+\n",
      "|               Optimal hyperparameter & Testing accuracy score                |\n",
      "+----------------+------------------+----------------------------+-------------+\n",
      "| Regularization | Cross Validation | Optimal Hyperparameter (C) | Accuracy(%) |\n",
      "+----------------+------------------+----------------------------+-------------+\n",
      "|       L1       |   GridSearchCV   |             50             |    87.57    |\n",
      "+----------------+------------------+----------------------------+-------------+\n",
      "\n",
      "+------------------------------------------------------------------+\n",
      "|              Classification Report with lambda = 50              |\n",
      "+----------------------+-----------+--------+----------+-----------+\n",
      "| Class Lable/Averages | Precision | Recall | F1-Score |  Support  |\n",
      "+----------------------+-----------+--------+----------+-----------+\n",
      "|       negative       |    0.73   |  0.42  |   0.54   |  17838.00 |\n",
      "|       positive       |    0.89   |  0.97  |   0.93   |  87534.00 |\n",
      "|      micro avg       |    0.88   |  0.88  |   0.88   | 105372.00 |\n",
      "|      macro avg       |    0.81   |  0.70  |   0.73   | 105372.00 |\n",
      "|     weighted avg     |    0.86   |  0.88  |   0.86   | 105372.00 |\n",
      "+----------------------+-----------+--------+----------+-----------+\n"
     ]
    },
    {
     "data": {
      "image/png": "[encoded data removed]",
      "text/plain": [
       "<Figure size 432x288 with 2 Axes>"
      ]
     },
     "metadata": {
      "needs_background": "light"
     },
     "output_type": "display_data"
    },
    {
     "name": "stdout",
     "output_type": "stream",
     "text": [
      "\n",
      "+-------------------------------------------------+\n",
      "|             Confusion Matrix Report             |\n",
      "+----------------------------------------+--------+\n",
      "|                  Term                  | Value  |\n",
      "+----------------------------------------+--------+\n",
      "|           TP (True Positive)           | 84700  |\n",
      "|           TN (True Negative)           |  7572  |\n",
      "|          FP (False Positive)           | 10266  |\n",
      "|          FN (False Negative)           |  2834  |\n",
      "| TPR (True Positive Rate)= TP/(TP+FN))  |  0.97  |\n",
      "| TNR (True Negative Rate)= TN/(TN+FP))  |  0.42  |\n",
      "| FPR (False Positive Rate)= FP/(FP+TN)) |  0.58  |\n",
      "| FNR (False Negative Rate)= FN/(TP+FN)) |  0.03  |\n",
      "| ACC (Accuracy)= (TP+TN)/(TP+FP+FN+TN)) | 87.57% |\n",
      "+----------------------------------------+--------+\n",
      "\n",
      "\n",
      "-------------------------- RandomizedSearchCV --------------------------\n",
      "\n"
     ]
    },
    {
     "data": {
      "image/png": "[encoded data removed]",
      "text/plain": [
       "<Figure size 432x288 with 1 Axes>"
      ]
     },
     "metadata": {
      "needs_background": "light"
     },
     "output_type": "display_data"
    },
    {
     "name": "stdout",
     "output_type": "stream",
     "text": [
      "\n",
      "\n",
      "+-------------------------------------------------+\n",
      "|   L1 Regularization with 'RandomizedSearchCV'   |\n",
      "+--------------------+----------+------+----------+\n",
      "| Hyperparameter (C) | Scoring  | Mean | Variance |\n",
      "+--------------------+----------+------+----------+\n",
      "|         50         | Accuracy | 0.88 |   0.02   |\n",
      "|         1          | Accuracy | 0.88 |   0.02   |\n",
      "|        100         | Accuracy | 0.88 |   0.02   |\n",
      "|       0.001        | Accuracy | 0.85 |   0.03   |\n",
      "|       0.0001       | Accuracy | 0.85 |   0.03   |\n",
      "|         10         | Accuracy | 0.88 |   0.02   |\n",
      "|        0.1         | Accuracy | 0.88 |   0.02   |\n",
      "|        0.01        | Accuracy | 0.87 |   0.00   |\n",
      "|        0.05        | Accuracy | 0.88 |   0.01   |\n",
      "|        1000        | Accuracy | 0.88 |   0.02   |\n",
      "+--------------------+----------+------+----------+\n",
      "\n",
      "+--------------------------------------------------------------------------------+\n",
      "|                Optimal hyperparameter & Testing accuracy score                 |\n",
      "+----------------+--------------------+----------------------------+-------------+\n",
      "| Regularization |  Cross Validation  | Optimal Hyperparameter (C) | Accuracy(%) |\n",
      "+----------------+--------------------+----------------------------+-------------+\n",
      "|       L1       | RandomizedSearchCV |            100             |    87.57    |\n",
      "+----------------+--------------------+----------------------------+-------------+\n",
      "\n",
      "+------------------------------------------------------------------+\n",
      "|             Classification Report with lambda = 100              |\n",
      "+----------------------+-----------+--------+----------+-----------+\n",
      "| Class Lable/Averages | Precision | Recall | F1-Score |  Support  |\n",
      "+----------------------+-----------+--------+----------+-----------+\n",
      "|       negative       |    0.73   |  0.42  |   0.54   |  17838.00 |\n",
      "|       positive       |    0.89   |  0.97  |   0.93   |  87534.00 |\n",
      "|      micro avg       |    0.88   |  0.88  |   0.88   | 105372.00 |\n",
      "|      macro avg       |    0.81   |  0.70  |   0.73   | 105372.00 |\n",
      "|     weighted avg     |    0.86   |  0.88  |   0.86   | 105372.00 |\n",
      "+----------------------+-----------+--------+----------+-----------+\n"
     ]
    },
    {
     "data": {
      "image/png": "[encoded data removed]",
      "text/plain": [
       "<Figure size 432x288 with 2 Axes>"
      ]
     },
     "metadata": {
      "needs_background": "light"
     },
     "output_type": "display_data"
    },
    {
     "name": "stdout",
     "output_type": "stream",
     "text": [
      "\n",
      "+-------------------------------------------------+\n",
      "|             Confusion Matrix Report             |\n",
      "+----------------------------------------+--------+\n",
      "|                  Term                  | Value  |\n",
      "+----------------------------------------+--------+\n",
      "|           TP (True Positive)           | 84700  |\n",
      "|           TN (True Negative)           |  7573  |\n",
      "|          FP (False Positive)           | 10265  |\n",
      "|          FN (False Negative)           |  2834  |\n",
      "| TPR (True Positive Rate)= TP/(TP+FN))  |  0.97  |\n",
      "| TNR (True Negative Rate)= TN/(TN+FP))  |  0.42  |\n",
      "| FPR (False Positive Rate)= FP/(FP+TN)) |  0.58  |\n",
      "| FNR (False Negative Rate)= FN/(TP+FN)) |  0.03  |\n",
      "| ACC (Accuracy)= (TP+TN)/(TP+FP+FN+TN)) | 87.57% |\n",
      "+----------------------------------------+--------+\n",
      "\n",
      "\n",
      "\n",
      "\n",
      "\n",
      "\n",
      "*****************************************************************************\n",
      "----------------------------- L2 Regularizaion -----------------------------\n",
      "*******************************************************************************\n",
      "\n",
      "\n",
      "-------------------------- GridSearchCV --------------------------\n",
      "\n"
     ]
    },
    {
     "data": {
      "image/png": "[encoded data removed]",
      "text/plain": [
       "<Figure size 432x288 with 1 Axes>"
      ]
     },
     "metadata": {
      "needs_background": "light"
     },
     "output_type": "display_data"
    },
    {
     "name": "stdout",
     "output_type": "stream",
     "text": [
      "\n",
      "\n",
      "+-------------------------------------------------+\n",
      "|      L2 Regularization with 'GridSearchCV'      |\n",
      "+--------------------+----------+------+----------+\n",
      "| Hyperparameter (C) | Scoring  | Mean | Variance |\n",
      "+--------------------+----------+------+----------+\n",
      "|       0.0001       | Accuracy | 0.85 |   0.03   |\n",
      "|       0.0005       | Accuracy | 0.85 |   0.03   |\n",
      "|       0.001        | Accuracy | 0.85 |   0.03   |\n",
      "|       0.005        | Accuracy | 0.86 |   0.01   |\n",
      "|        0.01        | Accuracy | 0.87 |   0.01   |\n",
      "|        0.05        | Accuracy | 0.88 |   0.01   |\n",
      "|        0.1         | Accuracy | 0.88 |   0.01   |\n",
      "|        0.5         | Accuracy | 0.88 |   0.02   |\n",
      "|         1          | Accuracy | 0.88 |   0.02   |\n",
      "|         5          | Accuracy | 0.88 |   0.02   |\n",
      "|         10         | Accuracy | 0.88 |   0.02   |\n",
      "|         50         | Accuracy | 0.88 |   0.02   |\n",
      "|        100         | Accuracy | 0.88 |   0.02   |\n",
      "|        500         | Accuracy | 0.88 |   0.02   |\n",
      "|        1000        | Accuracy | 0.88 |   0.02   |\n",
      "+--------------------+----------+------+----------+\n",
      "\n",
      "+------------------------------------------------------------------------------+\n",
      "|               Optimal hyperparameter & Testing accuracy score                |\n",
      "+----------------+------------------+----------------------------+-------------+\n",
      "| Regularization | Cross Validation | Optimal Hyperparameter (C) | Accuracy(%) |\n",
      "+----------------+------------------+----------------------------+-------------+\n",
      "|       L2       |   GridSearchCV   |            1000            |    87.57    |\n",
      "+----------------+------------------+----------------------------+-------------+\n",
      "\n",
      "+------------------------------------------------------------------+\n",
      "|             Classification Report with lambda = 1000             |\n",
      "+----------------------+-----------+--------+----------+-----------+\n",
      "| Class Lable/Averages | Precision | Recall | F1-Score |  Support  |\n",
      "+----------------------+-----------+--------+----------+-----------+\n",
      "|       negative       |    0.73   |  0.42  |   0.54   |  17838.00 |\n",
      "|       positive       |    0.89   |  0.97  |   0.93   |  87534.00 |\n",
      "|      micro avg       |    0.88   |  0.88  |   0.88   | 105372.00 |\n",
      "|      macro avg       |    0.81   |  0.70  |   0.73   | 105372.00 |\n",
      "|     weighted avg     |    0.86   |  0.88  |   0.86   | 105372.00 |\n",
      "+----------------------+-----------+--------+----------+-----------+\n"
     ]
    },
    {
     "data": {
      "image/png": "[encoded data removed]",
      "text/plain": [
       "<Figure size 432x288 with 2 Axes>"
      ]
     },
     "metadata": {
      "needs_background": "light"
     },
     "output_type": "display_data"
    },
    {
     "name": "stdout",
     "output_type": "stream",
     "text": [
      "\n",
      "+-------------------------------------------------+\n",
      "|             Confusion Matrix Report             |\n",
      "+----------------------------------------+--------+\n",
      "|                  Term                  | Value  |\n",
      "+----------------------------------------+--------+\n",
      "|           TP (True Positive)           | 84702  |\n",
      "|           TN (True Negative)           |  7575  |\n",
      "|          FP (False Positive)           | 10263  |\n",
      "|          FN (False Negative)           |  2832  |\n",
      "| TPR (True Positive Rate)= TP/(TP+FN))  |  0.97  |\n",
      "| TNR (True Negative Rate)= TN/(TN+FP))  |  0.42  |\n",
      "| FPR (False Positive Rate)= FP/(FP+TN)) |  0.58  |\n",
      "| FNR (False Negative Rate)= FN/(TP+FN)) |  0.03  |\n",
      "| ACC (Accuracy)= (TP+TN)/(TP+FP+FN+TN)) | 87.57% |\n",
      "+----------------------------------------+--------+\n",
      "\n",
      "\n",
      "-------------------------- RandomizedSearchCV --------------------------\n",
      "\n"
     ]
    },
    {
     "data": {
      "image/png": "[encoded data removed]",
      "text/plain": [
       "<Figure size 432x288 with 1 Axes>"
      ]
     },
     "metadata": {
      "needs_background": "light"
     },
     "output_type": "display_data"
    },
    {
     "name": "stdout",
     "output_type": "stream",
     "text": [
      "\n",
      "\n",
      "+-------------------------------------------------+\n",
      "|   L2 Regularization with 'RandomizedSearchCV'   |\n",
      "+--------------------+----------+------+----------+\n",
      "| Hyperparameter (C) | Scoring  | Mean | Variance |\n",
      "+--------------------+----------+------+----------+\n",
      "|       0.001        | Accuracy | 0.85 |   0.03   |\n",
      "|         1          | Accuracy | 0.88 |   0.02   |\n",
      "|        0.01        | Accuracy | 0.87 |   0.01   |\n",
      "|        0.5         | Accuracy | 0.88 |   0.02   |\n",
      "|        100         | Accuracy | 0.88 |   0.02   |\n",
      "|        0.1         | Accuracy | 0.88 |   0.01   |\n",
      "|        0.05        | Accuracy | 0.88 |   0.01   |\n",
      "|       0.0001       | Accuracy | 0.85 |   0.03   |\n",
      "|       0.0005       | Accuracy | 0.85 |   0.03   |\n",
      "|        500         | Accuracy | 0.88 |   0.02   |\n",
      "+--------------------+----------+------+----------+\n",
      "\n",
      "+--------------------------------------------------------------------------------+\n",
      "|                Optimal hyperparameter & Testing accuracy score                 |\n",
      "+----------------+--------------------+----------------------------+-------------+\n",
      "| Regularization |  Cross Validation  | Optimal Hyperparameter (C) | Accuracy(%) |\n",
      "+----------------+--------------------+----------------------------+-------------+\n",
      "|       L2       | RandomizedSearchCV |            100             |    87.57    |\n",
      "+----------------+--------------------+----------------------------+-------------+\n",
      "\n",
      "+------------------------------------------------------------------+\n",
      "|             Classification Report with lambda = 100              |\n",
      "+----------------------+-----------+--------+----------+-----------+\n",
      "| Class Lable/Averages | Precision | Recall | F1-Score |  Support  |\n",
      "+----------------------+-----------+--------+----------+-----------+\n",
      "|       negative       |    0.73   |  0.42  |   0.54   |  17838.00 |\n",
      "|       positive       |    0.89   |  0.97  |   0.93   |  87534.00 |\n",
      "|      micro avg       |    0.88   |  0.88  |   0.88   | 105372.00 |\n",
      "|      macro avg       |    0.81   |  0.70  |   0.73   | 105372.00 |\n",
      "|     weighted avg     |    0.86   |  0.88  |   0.86   | 105372.00 |\n",
      "+----------------------+-----------+--------+----------+-----------+\n"
     ]
    },
    {
     "data": {
      "image/png": "[encoded data removed]",
      "text/plain": [
       "<Figure size 432x288 with 2 Axes>"
      ]
     },
     "metadata": {
      "needs_background": "light"
     },
     "output_type": "display_data"
    },
    {
     "name": "stdout",
     "output_type": "stream",
     "text": [
      "\n",
      "+-------------------------------------------------+\n",
      "|             Confusion Matrix Report             |\n",
      "+----------------------------------------+--------+\n",
      "|                  Term                  | Value  |\n",
      "+----------------------------------------+--------+\n",
      "|           TP (True Positive)           | 84703  |\n",
      "|           TN (True Negative)           |  7574  |\n",
      "|          FP (False Positive)           | 10264  |\n",
      "|          FN (False Negative)           |  2831  |\n",
      "| TPR (True Positive Rate)= TP/(TP+FN))  |  0.97  |\n",
      "| TNR (True Negative Rate)= TN/(TN+FP))  |  0.42  |\n",
      "| FPR (False Positive Rate)= FP/(FP+TN)) |  0.58  |\n",
      "| FNR (False Negative Rate)= FN/(TP+FN)) |  0.03  |\n",
      "| ACC (Accuracy)= (TP+TN)/(TP+FP+FN+TN)) | 87.57% |\n",
      "+----------------------------------------+--------+\n",
      "\n",
      "\n",
      "\n",
      "\n",
      "Wall time: 6min 26s\n"
     ]
    }
   ],
   "source": [
    "%%time\n",
    "\n",
    "# Perform logistic regression with l1 and l2 as a penalty, on tf-idf weighted Word2Vec\n",
    "try:    \n",
    "    run_logistic_regression(\"tf-idf-w2v\",\n",
    "                            x_train = tfidf_w2v_train,\n",
    "                            x_test = tfidf_w2v_test, \n",
    "                            y_train = y_train,\n",
    "                            y_test = y_test)\n",
    "except Exception:\n",
    "    traceback.print_exc()"
   ]
  },
  {
   "cell_type": "markdown",
   "metadata": {},
   "source": [
    "<br/><br/>"
   ]
  },
  {
   "cell_type": "markdown",
   "metadata": {},
   "source": [
    "### (3) Calculate sparsity on weight vector using L1 regularization :"
   ]
  },
  {
   "cell_type": "code",
   "execution_count": 16,
   "metadata": {},
   "outputs": [],
   "source": [
    "classifier = LogisticRegression()\n",
    "classifier.penalty = 'l1'"
   ]
  },
  {
   "cell_type": "markdown",
   "metadata": {},
   "source": [
    "#### (3.1) Sparsity testing using BoW : \n",
    "Task : Keep increasing and decreasing lambda(1 / C), to calculate error and sparsity."
   ]
  },
  {
   "cell_type": "code",
   "execution_count": 17,
   "metadata": {
    "scrolled": false
   },
   "outputs": [
    {
     "name": "stdout",
     "output_type": "stream",
     "text": [
      "\n"
     ]
    },
    {
     "data": {
      "image/png": "[encoded data removed]",
      "text/plain": [
       "<Figure size 432x288 with 1 Axes>"
      ]
     },
     "metadata": {
      "needs_background": "light"
     },
     "output_type": "display_data"
    },
    {
     "name": "stdout",
     "output_type": "stream",
     "text": [
      "\n"
     ]
    },
    {
     "data": {
      "image/png": "[encoded data removed]",
      "text/plain": [
       "<Figure size 432x288 with 1 Axes>"
      ]
     },
     "metadata": {
      "needs_background": "light"
     },
     "output_type": "display_data"
    },
    {
     "name": "stdout",
     "output_type": "stream",
     "text": [
      "\n",
      "\n",
      "+-----------------------------------------------+\n",
      "|            Sparsity Testing Report            |\n",
      "+-------------------+----------+----------------+\n",
      "| Hyperparameter(C) | Sparsity | Training Error |\n",
      "+-------------------+----------+----------------+\n",
      "|       0.001       |    2     |      0.14      |\n",
      "|        0.01       |    72    |      0.13      |\n",
      "|        0.1        |   505    |      0.08      |\n",
      "|         1         |   2166   |      0.07      |\n",
      "|         10        |  10720   |      0.05      |\n",
      "|        100        |  25947   |      0.04      |\n",
      "|        1000       |  37703   |      0.04      |\n",
      "+-------------------+----------+----------------+\n",
      "\n",
      "Wall time: 36.4 s\n"
     ]
    }
   ],
   "source": [
    "%%time\n",
    "\n",
    "# perform sparsity testing on bow\n",
    "perform_sparsity_testing(classifier,bow_train_features)"
   ]
  },
  {
   "cell_type": "markdown",
   "metadata": {},
   "source": [
    "#### As we can observe from the table that,when we increase hyperparameter's value, sparsity of weight vector increases drastically. \n"
   ]
  },
  {
   "cell_type": "markdown",
   "metadata": {},
   "source": [
    "<br/><br/>"
   ]
  },
  {
   "cell_type": "markdown",
   "metadata": {},
   "source": [
    "### (4) Perform multicollinearity (pertubation test) on features and show feature importance :\n",
    "#### (4.1) Pertubation test  using BoW: "
   ]
  },
  {
   "cell_type": "code",
   "execution_count": 18,
   "metadata": {},
   "outputs": [
    {
     "name": "stdout",
     "output_type": "stream",
     "text": [
      "------------------ Before Pertubation Test ------------------\n",
      "Accuracy on testing data: 88.54%\n",
      "Number of non zero weights in weight vector 'w':  74398\n",
      "\n",
      "\n",
      "------------------ After Pertubation Test ------------------\n",
      "Accuracy on testing data: 88.54%\n",
      "Number of non zero weights in weight vector 'w':  74398\n",
      "\n",
      "\n",
      "5.01% value changes with tolerence value of 0.001 between two weight vectors\n",
      "\n",
      "\n",
      "Features are non collinear for tolerence value 0.001\n",
      "As we decrease tolerence value and increase noise, features may become multicollinear.\n"
     ]
    }
   ],
   "source": [
    "# Check for multicollinearity on Bow\n",
    "weight_before_pertubation,weight_after_pertubation,clf_bow = perform_pertubation_test(bow_train_features,\n",
    "                                                                                      bow_test_features,\n",
    "                                                                                      y_train,\n",
    "                                                                                      y_test,\n",
    "                                                                                      10,\n",
    "                                                                                      \"l2\")\n",
    "\n",
    "count_nnz_w1 = np.count_nonzero(weight_before_pertubation != 0)\n",
    "count_nnz_w2 = np.count_nonzero(weight_after_pertubation != 0)\n",
    "\n",
    "if(count_nnz_w1 == 0):\n",
    "    print(\"\\nWeight vector has 0 number of non zero alements.\") \n",
    "    print(\"Features are highly collinear in nature.\")    \n",
    "elif(count_nnz_w1 == count_nnz_w2 and count_nnz_w1 != 0):\n",
    "    # Compare weight vectors for tolerence value\n",
    "    # For tolerence value check for numpy.isclose() documentation\n",
    "    compare_weight_vectors(weight_before_pertubation, weight_after_pertubation, 0.001)\n",
    "    print(\"\\nFeatures are non collinear for tolerence value 0.001\")\n",
    "    print(\"As we decrease tolerence value and increase noise, features may become multicollinear.\")\n",
    "else:\n",
    "    print(\"\\nFeatures are highly collinear in nature.\")\n",
    "    print(\"After adding the noise, {0} of non zero elements changes drastically.\".format(abs(count_nnz_w1 - count_nnz_w2)))"
   ]
  },
  {
   "cell_type": "markdown",
   "metadata": {},
   "source": [
    "#### Feature importance for BoW: "
   ]
  },
  {
   "cell_type": "code",
   "execution_count": 19,
   "metadata": {},
   "outputs": [
    {
     "name": "stdout",
     "output_type": "stream",
     "text": [
      "\n",
      "+-----------------------------------------------------------------------------+\n",
      "|    Feature Importance - 25 Most Common Features using absolute value of W   |\n",
      "+----------------+---------------------+----------------+---------------------+\n",
      "| Feature (+ve)  |      |W| (+ve)      | Feature (-ve)  |      |W| (-ve)      |\n",
      "+----------------+---------------------+----------------+---------------------+\n",
      "|    skeptic     |  14.093841521131703 |     worst      |  18.622891313261203 |\n",
      "|    downsid     |   12.4193682373266  |    undrink     |  13.921291319297751 |\n",
      "|      hook      |   11.8752691044259  |    mediocr     |  13.404212464786815 |\n",
      "|    drawback    |  10.739237103699683 |       aw       |  12.548249483460532 |\n",
      "|      yum       |  10.133941063043544 |    disgust     |  12.212535927662982 |\n",
      "|      beat      |  9.950258878259177  |    terribl     |  11.930148162984606 |\n",
      "|     addict     |  9.933788089974016  |   flavorless   |  11.704998305667674 |\n",
      "|      yay       |  9.853897813765265  |      yuck      |  11.487647957905772 |\n",
      "|     delici     |  9.805674502886099  |    unaccept    |  11.474091074920668 |\n",
      "|    perfect     |  9.595107673448034  |    horribl     |  11.371041360463323 |\n",
      "|     deduct     |  9.095812358443766  |   tasteless    |  11.208470614702401 |\n",
      "|    easiest     |  8.939129758658733  |    concept     |   11.0221789267423  |\n",
      "|     sinus      |   8.89617865464568  |     redeem     |  11.002946119554673 |\n",
      "|     terrif     |  8.870329580835953  |     decept     |  10.665117184977944 |\n",
      "|     excel      |   8.85514656401629  |    unpleas     |  10.33364628676511  |\n",
      "|      amaz      |  8.741291078303824  |     threw      |  10.229094669074406 |\n",
      "|     delish     |   8.71239027395237  |   disapoint    |  10.123567171189285 |\n",
      "|     awesom     |  8.624387204585492  |      ugh       |  10.07084938051702  |\n",
      "|    fantast     |   8.44486204588827  |   disappoint   |  9.988457730781597  |\n",
      "|     steal      |  8.379929531491548  |    opposit     |  9.856156211867225  |\n",
      "|     uniqu      |  8.261437635215401  |   unimpress    |  9.835947787084702  |\n",
      "|     sooth      |   8.23331829397752  |    useless     |  9.676382531835438  |\n",
      "|    outstand    |   8.10598488911242  |     gross      |  9.647285908375853  |\n",
      "|     gripe      |  8.004045288186761  |     unapp      |  9.543947571257203  |\n",
      "|      whim      |  8.000506092619151  |      ruin      |  9.538845465313683  |\n",
      "+----------------+---------------------+----------------+---------------------+\n",
      "\n"
     ]
    }
   ],
   "source": [
    "# Get most common features based on absolute value of weight vectors for positive and negative reviews.\n",
    "get_most_common_words(clf_bow, bow_vectorizer, top_n=25)"
   ]
  },
  {
   "cell_type": "markdown",
   "metadata": {},
   "source": [
    "<br/>"
   ]
  },
  {
   "cell_type": "markdown",
   "metadata": {},
   "source": [
    "#### (4.2) Pertubation test  using TF-IDF: "
   ]
  },
  {
   "cell_type": "code",
   "execution_count": 20,
   "metadata": {},
   "outputs": [
    {
     "name": "stdout",
     "output_type": "stream",
     "text": [
      "------------------ Before Pertubation Test ------------------\n",
      "Accuracy on testing data: 92.97%\n",
      "Number of non zero weights in weight vector 'w':  487621\n",
      "\n",
      "\n",
      "------------------ After Pertubation Test ------------------\n",
      "Accuracy on testing data: 92.97%\n",
      "Number of non zero weights in weight vector 'w':  487621\n",
      "\n",
      "\n",
      "18.49% value changes with tolerence value of 0.001 between two weight vectors\n",
      "\n",
      "\n",
      "Features are non collinear for tolerence value 0.001\n",
      "As we decrease tolerence value and increase noise, features may become multicollinear.\n"
     ]
    }
   ],
   "source": [
    "# Check for multicollinearity on TF-IDF\n",
    "weight_before_pertubation,weight_after_pertubation,clf_tfidf = perform_pertubation_test(tf_idf_train_features,\n",
    "                                                                                        tf_idf_test_features,\n",
    "                                                                                        y_train,\n",
    "                                                                                        y_test,\n",
    "                                                                                        100,\n",
    "                                                                                        \"l2\")\n",
    "\n",
    "count_nnz_w1 = np.count_nonzero(weight_before_pertubation != 0)\n",
    "count_nnz_w2 = np.count_nonzero(weight_after_pertubation != 0)\n",
    "\n",
    "if(count_nnz_w1 == 0):\n",
    "    print(\"\\nWeight vector has 0 number of non zero alements.\") \n",
    "    print(\"Features are highly collinear in nature.\")    \n",
    "elif(count_nnz_w1 == count_nnz_w2 and count_nnz_w1 != 0):\n",
    "    # Compare weight vectors for tolerence value\n",
    "    # For tolerence value check for numpy.isclose() documentation\n",
    "    compare_weight_vectors(weight_before_pertubation, weight_after_pertubation, 0.001)\n",
    "    print(\"\\nFeatures are non collinear for tolerence value 0.001\")\n",
    "    print(\"As we decrease tolerence value and increase noise, features may become multicollinear.\")\n",
    "else:\n",
    "    print(\"\\nFeatures are highly collinear in nature.\")\n",
    "    print(\"After adding the noise, {0} of non zero elements changes drastically.\".format(abs(count_nnz_w1 - count_nnz_w2)))"
   ]
  },
  {
   "cell_type": "markdown",
   "metadata": {},
   "source": [
    "#### Feature importance for TF-IDF: "
   ]
  },
  {
   "cell_type": "code",
   "execution_count": 21,
   "metadata": {},
   "outputs": [
    {
     "name": "stdout",
     "output_type": "stream",
     "text": [
      "\n",
      "+-----------------------------------------------------------------------------+\n",
      "|    Feature Importance - 25 Most Common Features using absolute value of W   |\n",
      "+------------------+--------------------+----------------+--------------------+\n",
      "|  Feature (+ve)   |     |W| (+ve)      | Feature (-ve)  |     |W| (-ve)      |\n",
      "+------------------+--------------------+----------------+--------------------+\n",
      "|      great       | 35.71753722234398  |    two star    | 36.03427893987466  |\n",
      "|      delici      | 33.90030035531667  |     worst      | 33.408742132252534 |\n",
      "|  high recommend  | 31.948761537248355 |   disappoint   | 30.34677939920822  |\n",
      "|       best       | 28.740551312314132 |       aw       | 24.97421765228579  |\n",
      "|     perfect      | 28.608983960336065 |    terribl     | 24.703196603437235 |\n",
      "|       love       | 28.15723999115403  |    horribl     | 22.67822522092035  |\n",
      "|      excel       | 26.266356006723967 |    disgust     | 21.02086539348089  |\n",
      "| wont disappoint  | 24.801194120737186 |     bland      | 19.88532717278006  |\n",
      "|       amaz       | 22.237633250446308 |     return     | 19.825226082195247 |\n",
      "|    four star     | 20.819931052090144 |    wont buy    | 19.487666207955403 |\n",
      "| pleasant surpris | 19.867399577174446 |     threw      | 19.25031685869836  |\n",
      "|      addict      | 19.697245290413917 |    undrink     | 18.859931089890907 |\n",
      "|       good       | 19.162054868947763 |    unfortun    | 18.688573672995823 |\n",
      "|      awesom      | 19.157362231884832 |   want like    | 18.502619195665268 |\n",
      "|       nice       | 18.892239330841864 |      yuck      | 18.145175720454436 |\n",
      "|      tasti       | 18.47867364418753  |   tasteless    | 17.93166870075845  |\n",
      "|     favorit      | 17.98397296071259  |   way sweet    | 17.81746214146594  |\n",
      "| never disappoint | 17.940140777548216 |  great review  | 17.63678820654511  |\n",
      "|    well worth    | 17.842058507929625 | least favorit  | 17.411385228541313 |\n",
      "|      yummi       | 17.701792619433775 | dont recommend | 17.294841069641297 |\n",
      "|       hook       | 17.638951791890946 |     stale      | 17.29080491202529  |\n",
      "|     fantast      | 17.532167783684322 |   flavorless   | 17.07461636718377  |\n",
      "|     skeptic      | 17.371940251543162 |   never buy    | 16.989249909302213 |\n",
      "|   even better    | 16.924082041358822 |      weak      | 16.947999930246677 |\n",
      "|       glad       | 16.49084579632252  |    unpleas     | 16.93511034003923  |\n",
      "+------------------+--------------------+----------------+--------------------+\n",
      "\n"
     ]
    }
   ],
   "source": [
    "# Get most common features based on absolute value of weight vectors for positive and negative reviews.\n",
    "get_most_common_words(clf_tfidf, tfidf_vectorizer, top_n=25)"
   ]
  },
  {
   "cell_type": "markdown",
   "metadata": {},
   "source": [
    "<br/>"
   ]
  },
  {
   "cell_type": "markdown",
   "metadata": {},
   "source": [
    "#### (4.3) Pertubation test  using Average Word2Vec: "
   ]
  },
  {
   "cell_type": "code",
   "execution_count": 22,
   "metadata": {},
   "outputs": [
    {
     "name": "stdout",
     "output_type": "stream",
     "text": [
      "------------------ Before Pertubation Test ------------------\n",
      "Accuracy on testing data: 82.66%\n",
      "Number of non zero weights in weight vector 'w':  50\n",
      "\n",
      "\n",
      "------------------ After Pertubation Test ------------------\n",
      "Accuracy on testing data: 82.66%\n",
      "Number of non zero weights in weight vector 'w':  50\n",
      "\n",
      "\n",
      "0.00% value changes with tolerence value of 0.001 between two weight vectors\n",
      "\n"
     ]
    }
   ],
   "source": [
    "# Check for multicollinearity on Bow\n",
    "weight_before_pertubation,weight_after_pertubation,ignore = perform_pertubation_test(avg_w2v_train,\n",
    "                                                                                avg_w2v_test,\n",
    "                                                                                y_train,\n",
    "                                                                                y_test,\n",
    "                                                                                100,\n",
    "                                                                                \"l2\")\n",
    "\n",
    "count_nnz_w1 = np.count_nonzero(weight_before_pertubation != 0)\n",
    "count_nnz_w2 = np.count_nonzero(weight_after_pertubation != 0)\n",
    "\n",
    "if(count_nnz_w1 == 0):\n",
    "    print(\"\\nWeight vector has 0 number of non zero alements.\") \n",
    "    print(\"Features are highly collinear in nature.\")    \n",
    "elif(count_nnz_w1 == count_nnz_w2 and count_nnz_w1 != 0):\n",
    "    # Compare weight vectors for tolerence value\n",
    "    # For tolerence value check for numpy.isclose() documentation\n",
    "    compare_weight_vectors(weight_before_pertubation, weight_after_pertubation, 0.001)\n",
    "else:\n",
    "    print(\"\\nFeatures are highly collinear in nature.\")\n",
    "    print(\"After adding the noise, {0} of non zero elements changes drastically.\".format(abs(count_nnz_w1 - count_nnz_w2)))"
   ]
  },
  {
   "cell_type": "markdown",
   "metadata": {},
   "source": [
    "<br/>"
   ]
  },
  {
   "cell_type": "markdown",
   "metadata": {},
   "source": [
    "#### (4.4) Pertubation test  using TF-IDF Weighted Word2Vec: "
   ]
  },
  {
   "cell_type": "code",
   "execution_count": 24,
   "metadata": {},
   "outputs": [
    {
     "name": "stdout",
     "output_type": "stream",
     "text": [
      "------------------ Before Pertubation Test ------------------\n",
      "Accuracy on testing data: 80.00%\n",
      "Number of non zero weights in weight vector 'w':  50\n",
      "\n",
      "\n",
      "------------------ After Pertubation Test ------------------\n",
      "Accuracy on testing data: 80.00%\n",
      "Number of non zero weights in weight vector 'w':  50\n",
      "\n",
      "\n",
      "0.00% value changes with tolerence value of 0.001 between two weight vectors\n",
      "\n"
     ]
    }
   ],
   "source": [
    "# Check for multicollinearity on Bow\n",
    "weight_before_pertubation,weight_after_pertubation,ignore = perform_pertubation_test(tfidf_w2v_train,\n",
    "                                                                                tfidf_w2v_test,\n",
    "                                                                                y_train,\n",
    "                                                                                y_test,\n",
    "                                                                                50,\n",
    "                                                                                \"l1\")\n",
    "\n",
    "\n",
    "count_nnz_w1 = np.count_nonzero(weight_before_pertubation != 0)\n",
    "count_nnz_w2 = np.count_nonzero(weight_after_pertubation != 0)\n",
    "\n",
    "if(count_nnz_w1 == 0):\n",
    "    print(\"\\nWeight vector has 0 number of non zero alements.\") \n",
    "    print(\"Features are highly collinear in nature.\")    \n",
    "elif(count_nnz_w1 == count_nnz_w2 and count_nnz_w1 != 0):\n",
    "    # Compare weight vectors for tolerence value\n",
    "    # For tolerence value check for numpy.isclose() documentation\n",
    "    compare_weight_vectors(weight_before_pertubation, weight_after_pertubation, 0.001)\n",
    "else:\n",
    "    print(\"\\nFeatures are highly collinear in nature.\")\n",
    "    print(\"After adding the noise, {0} of non zero elements changes drastically.\".format(abs(count_nnz_w1 - count_nnz_w2)))"
   ]
  },
  {
   "cell_type": "markdown",
   "metadata": {},
   "source": [
    "---\n",
    "### Conclusion :\n",
    "---"
   ]
  },
  {
   "cell_type": "code",
   "execution_count": 25,
   "metadata": {},
   "outputs": [
    {
     "name": "stdout",
     "output_type": "stream",
     "text": [
      "+----------------------------------------------------------------------------------------------+\n",
      "|                                       ***Conclusion***                                       |\n",
      "+--------------------+---------------------+----------------+-------------+--------------------+\n",
      "|     Penalty-CV     |        Model        | Hyperparameter | Train Error |     Test Error     |\n",
      "+--------------------+---------------------+----------------+-------------+--------------------+\n",
      "|         L1         |         BOW         |       5        |     6.0%    |        8.0%        |\n",
      "|    GridSearchCV    | Logistic Regression |                |             |                    |\n",
      "|         L1         |         BOW         |       5        |     6.0%    |        8.0%        |\n",
      "| RandomizedSearchCV | Logistic Regression |                |             |                    |\n",
      "|         L2         |         BOW         |       10       |     6.0%    |        8.0%        |\n",
      "|    GridSearchCV    | Logistic Regression |                |             |                    |\n",
      "|         L2         |         BOW         |       10       |     6.0%    |        8.0%        |\n",
      "| RandomizedSearchCV | Logistic Regression |                |             |                    |\n",
      "|         L1         |        TFIDF        |       5        |     2.0%    | 7.000000000000001% |\n",
      "|    GridSearchCV    | Logistic Regression |                |             |                    |\n",
      "|         L1         |        TFIDF        |       5        |     2.0%    | 7.000000000000001% |\n",
      "| RandomizedSearchCV | Logistic Regression |                |             |                    |\n",
      "|         L2         |        TFIDF        |      100       |     0.0%    | 7.000000000000001% |\n",
      "|    GridSearchCV    | Logistic Regression |                |             |                    |\n",
      "|         L2         |        TFIDF        |      100       |     0.0%    | 7.000000000000001% |\n",
      "| RandomizedSearchCV | Logistic Regression |                |             |                    |\n",
      "|         L1         |       AVG-W2V       |       50       |    10.0%    |       11.0%        |\n",
      "|    GridSearchCV    | Logistic Regression |                |             |                    |\n",
      "|         L1         |       AVG-W2V       |      100       |    10.0%    |       11.0%        |\n",
      "| RandomizedSearchCV | Logistic Regression |                |             |                    |\n",
      "|         L2         |       AVG-W2V       |      100       |    10.0%    |       11.0%        |\n",
      "|    GridSearchCV    | Logistic Regression |                |             |                    |\n",
      "|         L2         |       AVG-W2V       |      100       |    10.0%    |       11.0%        |\n",
      "| RandomizedSearchCV | Logistic Regression |                |             |                    |\n",
      "|         L1         |      TFIDF-W2V      |       50       |    11.0%    |       12.0%        |\n",
      "|    GridSearchCV    | Logistic Regression |                |             |                    |\n",
      "|         L1         |      TFIDF-W2V      |      100       |    11.0%    |       12.0%        |\n",
      "| RandomizedSearchCV | Logistic Regression |                |             |                    |\n",
      "|         L2         |      TFIDF-W2V      |      1000      |    11.0%    |       12.0%        |\n",
      "|    GridSearchCV    | Logistic Regression |                |             |                    |\n",
      "|         L2         |      TFIDF-W2V      |      100       |    11.0%    |       12.0%        |\n",
      "| RandomizedSearchCV | Logistic Regression |                |             |                    |\n",
      "+--------------------+---------------------+----------------+-------------+--------------------+\n"
     ]
    }
   ],
   "source": [
    "conclude()"
   ]
  },
  {
   "cell_type": "markdown",
   "metadata": {},
   "source": [
    "---\n",
    "### Observations :\n",
    "---"
   ]
  },
  {
   "cell_type": "markdown",
   "metadata": {},
   "source": [
    "> 1. Here, Logistic Regression classifier is applied on complete dataset(~364K).\n",
    "> 2. Given dataset is imbalanced in nature (postive reviews:negative reviews = 5.57/1).\n",
    "> 3. Grid search and Randomized search cross validation with 5-fold technique is applied to calculate optimal hyperparameter 'C'= 1/lambda.\n",
    "> 4. Logistic regression produces very good result and sensible models on BoW & TF-IDF with ~92 and ~93 % accuracy.\n",
    "> 5. For this dataset, it is observed that logistic regression does not perform well with Average Word2Vec and TF-IDF weighted Word2Vec, but accuracy can be increased by introducing rigorous topic modeling or trying out different classification techniques.\n",
    "> 6. Sparsity testing is done, which evaluates that as you incease the values of 'C', number of zero values in the weight vector increases drastically.\n",
    "> 7. Multicollinearity testing(Pertubation technique) is done, which evaluates that ,BoW produces good result and it is non collinear in nature.\n",
    "> 8. for more information you can always refer to conclusion table above."
   ]
  }
 ],
 "metadata": {
  "kernelspec": {
   "display_name": "Python 3",
   "language": "python",
   "name": "python3"
  },
  "language_info": {
   "codemirror_mode": {
    "name": "ipython",
    "version": 3
   },
   "file_extension": ".py",
   "mimetype": "text/x-python",
   "name": "python",
   "nbconvert_exporter": "python",
   "pygments_lexer": "ipython3",
   "version": "3.6.6"
  }
 },
 "nbformat": 4,
 "nbformat_minor": 2
}
